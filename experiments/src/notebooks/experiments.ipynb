{
 "cells": [
  {
   "cell_type": "code",
   "execution_count": 1,
   "id": "initial_id",
   "metadata": {
    "ExecuteTime": {
     "end_time": "2025-04-02T19:57:48.729972Z",
     "start_time": "2025-04-02T19:57:48.177712Z"
    },
    "collapsed": true
   },
   "outputs": [
    {
     "name": "stdout",
     "output_type": "stream",
     "text": [
      "gemma3:12b 12.2B\n",
      "gemma3:4b 4.3B\n",
      "gemma3:1b 999.89M\n",
      "gemma3:27b-it-fp16 27.4B\n",
      "qwen2.5:72b-instruct 72.7B\n",
      "deepseek-r1:32b-qwen-distill-q4_K_M 32.8B\n",
      "deepseek-r1:70b 70.6B\n",
      "qwen2.5:0.5b 494.03M\n",
      "qwen2.5:1.5b 1.5B\n",
      "llama3.3:70b 70.6B\n",
      "llama3.3:latest 70.6B\n",
      "llama3.2-vision:latest 9.8B\n",
      "llama3.2:longe-ctx 3.2B\n",
      "qwen2.5:latest 7.6B\n",
      "nomic-embed-text:latest 137M\n",
      "qwen2.5-coder:32b 32.8B\n",
      "llama3.2:1b 1.2B\n",
      "mistral-nemo:12b-instruct-2407-fp16 12.2B\n",
      "nemotron:70b-instruct-q8_0 70.6B\n",
      "llama3.2:3b 3.2B\n",
      "llama3.2:latest 3.2B\n",
      "mistral-large:123b 122.6B\n",
      "qwen2.5:72b 72.7B\n",
      "llama3.1:70b 70.6B\n",
      "qwen2.5:32b-instruct 32.8B\n",
      "qwen2.5:72b-instruct-q4_0 72.7B\n",
      "llama2-uncensored:latest 7B\n",
      "qwen2.5:7b 7.6B\n",
      "qwen2.5:3b 3.1B\n"
     ]
    }
   ],
   "source": [
    "import ollama\n",
    "\n",
    "client = ollama.Client(host=\"https://ollama-dev.ceos.ufsc.br/\")\n",
    "response = client.list()\n",
    "for model in response.models:\n",
    "    print(model.model, model.details.parameter_size)"
   ]
  },
  {
   "cell_type": "code",
   "execution_count": 2,
   "id": "9c39766ac63fd7d6",
   "metadata": {
    "ExecuteTime": {
     "end_time": "2025-04-02T19:57:48.755719Z",
     "start_time": "2025-04-02T19:57:48.748690Z"
    }
   },
   "outputs": [],
   "source": [
    "import csv\n",
    "import json\n",
    "import pathlib\n",
    "\n",
    "sample_path = pathlib.Path(\"../../../resources/sample.json\")\n",
    "with sample_path.open() as sample_file:\n",
    "    reader = json.load(sample_file)\n",
    "    sample = {}\n",
    "    for entry in reader:\n",
    "        entry_id = entry.pop(\"codigo\")  # Remove \"ID\" and use it as the key\n",
    "        sample[entry_id] = entry"
   ]
  },
  {
   "cell_type": "code",
   "execution_count": 3,
   "id": "9675430db697f19d",
   "metadata": {
    "ExecuteTime": {
     "end_time": "2025-04-02T19:57:48.946755Z",
     "start_time": "2025-04-02T19:57:48.934625Z"
    }
   },
   "outputs": [
    {
     "name": "stdout",
     "output_type": "stream",
     "text": [
      "['codigo', 'titulo', 'data', 'cod_registro_info_sfinge', 'municipio', 'entidade', 'categoria', 'modalidade', 'nr_modalidade', 'objeto', 'justificativa', 'data_abertura', 'informacoes', 'signatario', 'cargo_do_signatario']\n"
     ]
    }
   ],
   "source": [
    "from slugify import slugify\n",
    "\n",
    "ground_truth_path = pathlib.Path(\"../../../resources/ground_truth.csv\")\n",
    "ground_truth = {}\n",
    "with ground_truth_path.open() as ground_truth_file:\n",
    "    reader = csv.DictReader(ground_truth_file)\n",
    "    fieldnames = []\n",
    "    for header in reader.fieldnames:\n",
    "        header = slugify(header, separator=\"_\")\n",
    "        if header == \"datahoradom\":\n",
    "            header = \"data\"\n",
    "        if header == \"categoriadom\":\n",
    "            header = \"categoria\"\n",
    "        fieldnames.append(header)\n",
    "    reader.fieldnames = fieldnames\n",
    "    for row in reader:\n",
    "        row = {key: (value if value != \"NULL\" else None) for key, value in row.items()}\n",
    "        row_id = row.pop(\"codigo\")  # remove 'ID' and use it as a key\n",
    "        ground_truth[row_id] = row\n",
    "    print(fieldnames)"
   ]
  },
  {
   "cell_type": "code",
   "execution_count": 4,
   "id": "6bbd5eae5c849ed3",
   "metadata": {
    "ExecuteTime": {
     "end_time": "2025-04-02T19:57:48.975216Z",
     "start_time": "2025-04-02T19:57:48.972309Z"
    }
   },
   "outputs": [
    {
     "name": "stdout",
     "output_type": "stream",
     "text": [
      "13\n"
     ]
    }
   ],
   "source": [
    "dom_values = [\"titulo\", \"data\", \"cod_registro_info_sfinge\", \"entidade\", \"categoria\"]\n",
    "cod_registro_info_sfinge_null_amount = 0\n",
    "for codigo in sample:\n",
    "    if ground_truth[codigo][\"cod_registro_info_sfinge\"] is None:\n",
    "        cod_registro_info_sfinge_null_amount += 1\n",
    "print(cod_registro_info_sfinge_null_amount)"
   ]
  },
  {
   "cell_type": "code",
   "execution_count": 35,
   "id": "9c9344f78c2451dc",
   "metadata": {
    "ExecuteTime": {
     "end_time": "2025-04-03T02:05:55.743910Z",
     "start_time": "2025-04-03T02:05:55.737970Z"
    }
   },
   "outputs": [],
   "source": [
    "from datetime import datetime\n",
    "from enum import Enum\n",
    "\n",
    "from pydantic import BaseModel\n",
    "\n",
    "\n",
    "class Modalidade(str, Enum):\n",
    "    CONVITE = \"Convite\"\n",
    "    TOMADA_DE_PRECO = \"Tomada de Preço\"\n",
    "    DISPENSA = \"Dispensa de Licitação\"\n",
    "    INEXIGIBILIDADE = \"Inexigibilidade\"\n",
    "    PREGÃO = \"Pregão\"\n",
    "    CARTA_CONVITE = \"Carta Convite\"\n",
    "    CREDENCIAMENTO = \"Credenciamento\"\n",
    "    OUTROS = \"Outros\"\n",
    "    CONCORRENCIA = \"Concorrência\"\n",
    "\n",
    "\n",
    "class CustomDate(BaseModel):\n",
    "    year: int\n",
    "    month: int\n",
    "    day: int\n",
    "\n",
    "\n",
    "class Atributos(BaseModel):\n",
    "    modalidade: Modalidade\n",
    "    nr_modalidade: str\n",
    "    objeto: str\n",
    "    justificativa: str\n",
    "    data_abertura: CustomDate\n",
    "    informacoes: str\n",
    "    signatario: str\n",
    "    cargo_do_signatario: str"
   ]
  },
  {
   "cell_type": "code",
   "execution_count": 36,
   "id": "34d299c58dcf0084",
   "metadata": {
    "ExecuteTime": {
     "end_time": "2025-04-03T02:05:57.410312Z",
     "start_time": "2025-04-03T02:05:57.405480Z"
    }
   },
   "outputs": [
    {
     "data": {
      "text/plain": [
       "{'$defs': {'CustomDate': {'properties': {'year': {'title': 'Year',\n",
       "     'type': 'integer'},\n",
       "    'month': {'title': 'Month', 'type': 'integer'},\n",
       "    'day': {'title': 'Day', 'type': 'integer'}},\n",
       "   'required': ['year', 'month', 'day'],\n",
       "   'title': 'CustomDate',\n",
       "   'type': 'object'},\n",
       "  'Modalidade': {'enum': ['Convite',\n",
       "    'Tomada de Preço',\n",
       "    'Dispensa de Licitação',\n",
       "    'Inexigibilidade',\n",
       "    'Pregão',\n",
       "    'Carta Convite',\n",
       "    'Credenciamento',\n",
       "    'Outros',\n",
       "    'Concorrência'],\n",
       "   'title': 'Modalidade',\n",
       "   'type': 'string'}},\n",
       " 'properties': {'modalidade': {'$ref': '#/$defs/Modalidade'},\n",
       "  'nr_modalidade': {'title': 'Nr Modalidade', 'type': 'string'},\n",
       "  'objeto': {'title': 'Objeto', 'type': 'string'},\n",
       "  'justificativa': {'title': 'Justificativa', 'type': 'string'},\n",
       "  'data_abertura': {'$ref': '#/$defs/CustomDate'},\n",
       "  'informacoes': {'title': 'Informacoes', 'type': 'string'},\n",
       "  'signatario': {'title': 'Signatario', 'type': 'string'},\n",
       "  'cargo_do_signatario': {'title': 'Cargo Do Signatario', 'type': 'string'}},\n",
       " 'required': ['modalidade',\n",
       "  'nr_modalidade',\n",
       "  'objeto',\n",
       "  'justificativa',\n",
       "  'data_abertura',\n",
       "  'informacoes',\n",
       "  'signatario',\n",
       "  'cargo_do_signatario'],\n",
       " 'title': 'Atributos',\n",
       " 'type': 'object'}"
      ]
     },
     "execution_count": 36,
     "metadata": {},
     "output_type": "execute_result"
    }
   ],
   "source": [
    "Atributos.model_json_schema()"
   ]
  },
  {
   "cell_type": "code",
   "execution_count": 37,
   "id": "a8c58bcd521d4470",
   "metadata": {
    "ExecuteTime": {
     "end_time": "2025-04-03T02:06:13.967122Z",
     "start_time": "2025-04-03T02:05:58.985870Z"
    }
   },
   "outputs": [],
   "source": [
    "response = client.chat(\n",
    "    model=\"deepseek-r1:70b\",\n",
    "    messages=[\n",
    "        {\"role\": \"system\", \"content\": \"Extraia os atributos do documento\"},\n",
    "        {\"role\": \"user\", \"content\": sample[\"6611505\"][\"texto\"]},\n",
    "    ],\n",
    "    format=Atributos.model_json_schema(),\n",
    ")"
   ]
  },
  {
   "cell_type": "code",
   "execution_count": 38,
   "id": "d7f309d080f3174a",
   "metadata": {
    "ExecuteTime": {
     "end_time": "2025-04-03T02:06:18.097664Z",
     "start_time": "2025-04-03T02:06:18.095413Z"
    }
   },
   "outputs": [
    {
     "name": "stdout",
     "output_type": "stream",
     "text": [
      "{\n",
      "  \"modalidade\": \"Concorrência\",\n",
      "  \"nr_modalidade\": \"05/2024\",\n",
      "  \"objeto\": \"Execução de passeio público as margens da SC-154, quilômetros 89 e 90, acesso sul do município de Ipumirim/SC\",\n",
      "  \"justificativa\": \"Considerando o disposto no art. 28, inciso II da Lei n° 14.133/2021\",\n",
      "  \"data_abertura\": {\n",
      "    \"year\": 2024,\n",
      "    \"month\": 11,\n",
      "    \"day\": 12\n",
      "  },\n",
      "  \"informacoes\": \"Foram cumpridas as formalidades previstas na Lei n° 14.133/2021\",\n",
      "  \"signatario\": \"Hilário Reffatti - Prefeito Municipal\",\n",
      "  \"cargo_do_signatario\": \"Prefeito Municipal de Ipumirim\"\n",
      "}\n"
     ]
    }
   ],
   "source": [
    "print(response.message.content)"
   ]
  },
  {
   "cell_type": "code",
   "execution_count": 8,
   "id": "bc15544b17e43024",
   "metadata": {
    "ExecuteTime": {
     "end_time": "2025-04-02T19:58:17.644477Z",
     "start_time": "2025-04-02T19:58:17.550438Z"
    }
   },
   "outputs": [
    {
     "ename": "AttributeError",
     "evalue": "'ListResponse' object has no attribute 'message'",
     "output_type": "error",
     "traceback": [
      "\u001B[31m---------------------------------------------------------------------------\u001B[39m",
      "\u001B[31mAttributeError\u001B[39m                            Traceback (most recent call last)",
      "\u001B[36mCell\u001B[39m\u001B[36m \u001B[39m\u001B[32mIn[8]\u001B[39m\u001B[32m, line 1\u001B[39m\n\u001B[32m----> \u001B[39m\u001B[32m1\u001B[39m json.loads(\u001B[43mresponse\u001B[49m\u001B[43m.\u001B[49m\u001B[43mmessage\u001B[49m.content)\n",
      "\u001B[36mFile \u001B[39m\u001B[32m~/Desktop/personal/tcc/experiments/.venv/lib/python3.13/site-packages/pydantic/main.py:891\u001B[39m, in \u001B[36mBaseModel.__getattr__\u001B[39m\u001B[34m(self, item)\u001B[39m\n\u001B[32m    888\u001B[39m     \u001B[38;5;28;01mreturn\u001B[39;00m \u001B[38;5;28msuper\u001B[39m().\u001B[34m__getattribute__\u001B[39m(item)  \u001B[38;5;66;03m# Raises AttributeError if appropriate\u001B[39;00m\n\u001B[32m    889\u001B[39m \u001B[38;5;28;01melse\u001B[39;00m:\n\u001B[32m    890\u001B[39m     \u001B[38;5;66;03m# this is the current error\u001B[39;00m\n\u001B[32m--> \u001B[39m\u001B[32m891\u001B[39m     \u001B[38;5;28;01mraise\u001B[39;00m \u001B[38;5;167;01mAttributeError\u001B[39;00m(\u001B[33mf\u001B[39m\u001B[33m'\u001B[39m\u001B[38;5;132;01m{\u001B[39;00m\u001B[38;5;28mtype\u001B[39m(\u001B[38;5;28mself\u001B[39m).\u001B[34m__name__\u001B[39m\u001B[38;5;132;01m!r}\u001B[39;00m\u001B[33m object has no attribute \u001B[39m\u001B[38;5;132;01m{\u001B[39;00mitem\u001B[38;5;132;01m!r}\u001B[39;00m\u001B[33m'\u001B[39m)\n",
      "\u001B[31mAttributeError\u001B[39m: 'ListResponse' object has no attribute 'message'"
     ]
    }
   ],
   "source": [
    "json.loads(response.message.content)"
   ]
  },
  {
   "cell_type": "code",
   "execution_count": 36,
   "id": "20f1a30213115e73",
   "metadata": {
    "ExecuteTime": {
     "end_time": "2025-04-02T19:58:17.678971Z",
     "start_time": "2025-03-23T19:48:58.465901Z"
    }
   },
   "outputs": [
    {
     "data": {
      "text/plain": [
       "{'6611928': {'titulo': 'ERRATA Nº 001 - PE Nº 155/2024/SMS',\n",
       "  'data': '2024-11-12 17:43:19',\n",
       "  'cod_registro_info_sfinge': '01A844BB11CE682547D615CA1F6A386E150DE5EF',\n",
       "  'municipio': 'Palhoça',\n",
       "  'entidade': 'Prefeitura Municipal de Palhoça',\n",
       "  'categoria': 'Licitações',\n",
       "  'link': 'https://www.diariomunicipal.sc.gov.br/?q=id:6611928',\n",
       "  'texto': '<html xmlns=\"http://www.w3.org/1999/xhtml\">\\n\\n    <head>\\n\\n        <meta name=\"pdf:PDFVersion\" content=\"1.7\"/>\\n\\n        <meta name=\"pdf:docinfo:title\" content=\"Microsoft Word - AVISO DE ERRATA N&ordm; 001 - LAUDA.doc\"/>\\n\\n        <meta name=\"pdf:hasXFA\" content=\"false\"/>\\n\\n        <meta name=\"access_permission:modify_annotations\" content=\"true\"/>\\n\\n        <meta name=\"access_permission:can_print_degraded\" content=\"true\"/>\\n\\n        <meta name=\"dc:creator\" content=\"Carolina Elisa Peres\"/>\\n\\n        <meta name=\"dcterms:created\" content=\"2024-11-12T18:52:48Z\"/>\\n\\n        <meta name=\"dcterms:modified\" content=\"2024-11-12T18:52:48Z\"/>\\n\\n        <meta name=\"dc:format\" content=\"application/pdf; version=1.7\"/>\\n\\n        <meta name=\"access_permission:fill_in_form\" content=\"true\"/>\\n\\n        <meta name=\"pdf:docinfo:modified\" content=\"2024-11-12T18:52:48Z\"/>\\n\\n        <meta name=\"pdf:hasCollection\" content=\"false\"/>\\n\\n        <meta name=\"pdf:encrypted\" content=\"false\"/>\\n\\n        <meta name=\"dc:title\" content=\"Microsoft Word - AVISO DE ERRATA N&ordm; 001 - LAUDA.doc\"/>\\n\\n        <meta name=\"Content-Length\" content=\"191179\"/>\\n\\n        <meta name=\"pdf:hasMarkedContent\" content=\"false\"/>\\n\\n        <meta name=\"Content-Type\" content=\"application/pdf\"/>\\n\\n        <meta name=\"pdf:docinfo:creator\" content=\"Carolina Elisa Peres\"/>\\n\\n        <meta name=\"pdf:producer\" content=\"Microsoft: Print To PDF\"/>\\n\\n        <meta name=\"access_permission:extract_for_accessibility\" content=\"true\"/>\\n\\n        <meta name=\"access_permission:assemble_document\" content=\"true\"/>\\n\\n        <meta name=\"xmpTPg:NPages\" content=\"1\"/>\\n\\n        <meta name=\"pdf:hasXMP\" content=\"false\"/>\\n\\n        <meta name=\"access_permission:extract_content\" content=\"true\"/>\\n\\n        <meta name=\"access_permission:can_print\" content=\"true\"/>\\n\\n        <meta name=\"X-TIKA:Parsed-By\" content=\"org.apache.tika.parser.CompositeParser\"/>\\n\\n        <meta name=\"X-TIKA:Parsed-By\" content=\"org.apache.tika.parser.pdf.PDFParser\"/>\\n\\n        <meta name=\"access_permission:can_modify\" content=\"true\"/>\\n\\n        <meta name=\"pdf:docinfo:producer\" content=\"Microsoft: Print To PDF\"/>\\n\\n        <meta name=\"pdf:docinfo:created\" content=\"2024-11-12T18:52:48Z\"/>\\n\\n        <title>Microsoft Word - AVISO DE ERRATA N&ordm; 001 - LAUDA.doc</title>\\n\\n    </head>\\n\\n    <body>\\n        <div class=\"page\">\\n            <p/>\\n\\n            <p>ESTADO DE SANTA CATARINA \\nPREFEITURA MUNICIPAL DE PALHO&Ccedil;A \\nAVISO DE ERRATA N&ordm; 001 \\nModalidade: Preg&atilde;o Eletr&ocirc;nico n&ordm; 155/2024/SMS. \\nObjeto: aquisi&ccedil;&atilde;o de 01 (UM) ve&iacute;culo tipo pickup com tra&ccedil;&atilde;o \\n4X4, para uso no SAMU, vinculado a Secretaria Municipal de \\nSa&uacute;de do munic&iacute;pio de Palho&ccedil;a. \\nJustificativa: Altera&ccedil;&atilde;o no Termo de Refer&ecirc;ncia (Anexo II). \\nNova data de abertura: 28/11/2024 &agrave;s 09h00min. \\nMaiores informa&ccedil;&otilde;es: Setor de Licita&ccedil;&otilde;es da Prefeitura, \\nhttp://palhoca.atende.net;https://www.portaldecompraspublicas.\\ncom.br/, cplpalhoca@gmail.com, (48) 3220-0300 ramais 1733 \\nou 1804. \\nPalho&ccedil;a, 12 de novembro de 2024. \\nEDUARDO FRECCIA \\nPrefeito Municipal \\n </p>\\n\\n            <p/>\\n\\n        </div>\\n\\n    </body>\\n</html>\\n',\n",
       "  'url': 'https://www.diariomunicipal.sc.gov.br/arquivosbd/atos/2024/11/1731444194_aviso_de_errata_n_001__lauda_extrato.pdf'},\n",
       " '6611484': {'titulo': 'TERMO DE HOMOLOGAÇÃO PL 180-2024 CE 05-2024 - PASSEIO PÚBLICO',\n",
       "  'data': '2024-11-12 16:05:39',\n",
       "  'cod_registro_info_sfinge': None,\n",
       "  'municipio': 'Ipumirim',\n",
       "  'entidade': 'Prefeitura Municipal de Ipumirim',\n",
       "  'categoria': 'Licitações',\n",
       "  'link': 'https://www.diariomunicipal.sc.gov.br/?q=id:6611484',\n",
       "  'texto': '<html xmlns=\"http://www.w3.org/1999/xhtml\">\\n\\n    <head>\\n\\n        <meta name=\"pdf:PDFVersion\" content=\"1.4\"/>\\n\\n        <meta name=\"xmp:CreatorTool\" content=\"empira MigraDoc 1.50.4740 (www.migradoc.com)\"/>\\n\\n        <meta name=\"pdf:hasXFA\" content=\"false\"/>\\n\\n        <meta name=\"access_permission:modify_annotations\" content=\"true\"/>\\n\\n        <meta name=\"access_permission:can_print_degraded\" content=\"true\"/>\\n\\n        <meta name=\"dc:creator\" content=\"Portal de Compras P&uacute;blicas\"/>\\n\\n        <meta name=\"dcterms:created\" content=\"2024-11-12T17:52:45Z\"/>\\n\\n        <meta name=\"dc:format\" content=\"application/pdf; version=1.4\"/>\\n\\n        <meta name=\"pdf:docinfo:creator_tool\" content=\"empira MigraDoc 1.50.4740 (www.migradoc.com)\"/>\\n\\n        <meta name=\"access_permission:fill_in_form\" content=\"true\"/>\\n\\n        <meta name=\"pdf:hasCollection\" content=\"false\"/>\\n\\n        <meta name=\"pdf:encrypted\" content=\"false\"/>\\n\\n        <meta name=\"Content-Length\" content=\"74636\"/>\\n\\n        <meta name=\"pdf:hasMarkedContent\" content=\"false\"/>\\n\\n        <meta name=\"Content-Type\" content=\"application/pdf\"/>\\n\\n        <meta name=\"pdf:docinfo:creator\" content=\"Portal de Compras P&uacute;blicas\"/>\\n\\n        <meta name=\"pdf:producer\" content=\"PDFsharp 1.50.4740 (www.pdfsharp.com)\"/>\\n\\n        <meta name=\"access_permission:extract_for_accessibility\" content=\"true\"/>\\n\\n        <meta name=\"access_permission:assemble_document\" content=\"true\"/>\\n\\n        <meta name=\"xmpTPg:NPages\" content=\"1\"/>\\n\\n        <meta name=\"pdf:hasXMP\" content=\"false\"/>\\n\\n        <meta name=\"access_permission:extract_content\" content=\"true\"/>\\n\\n        <meta name=\"access_permission:can_print\" content=\"true\"/>\\n\\n        <meta name=\"X-TIKA:Parsed-By\" content=\"org.apache.tika.parser.CompositeParser\"/>\\n\\n        <meta name=\"X-TIKA:Parsed-By\" content=\"org.apache.tika.parser.pdf.PDFParser\"/>\\n\\n        <meta name=\"access_permission:can_modify\" content=\"true\"/>\\n\\n        <meta name=\"pdf:docinfo:producer\" content=\"PDFsharp 1.50.4740 (www.pdfsharp.com)\"/>\\n\\n        <meta name=\"pdf:docinfo:created\" content=\"2024-11-12T17:52:45Z\"/>\\n\\n        <title>&#0;</title>\\n\\n    </head>\\n\\n    <body>\\n        <div class=\"page\">\\n            <p/>\\n\\n            <p>A autenticidade do documento pode ser verificada no site https://validaarquivo.portaldecompraspublicas.com.br\\nDocumento gerado eletronicamente no Portal de Compras P&uacute;blicas em 12/11/2024 &agrave;s 14:52:45.\\nC&oacute;digo verificador: AC9D85\\n</p>\\n\\n            <p>P&aacute;gina 1 de 1\\n</p>\\n\\n            <p>TERMO DE HOMOLOGA&Ccedil;&Atilde;O\\nPrefeitura Municipal de Ipumirim\\n</p>\\n\\n            <p>Fundo Municipal de Sa&uacute;de Ipumirim\\nConcorr&ecirc;ncia por Menor Pre&ccedil;o - 180/2024\\n</p>\\n\\n            <p>Resultado da Homologa&ccedil;&atilde;o\\n</p>\\n\\n            <p>0001 - Execu&ccedil;&atilde;o de passeio p&uacute;blico as margens da SC-154 &ndash; km 89 e 90 - Quantidade: 1 - Valor de Refer&ecirc;ncia: 290.289,67\\nFornecedor Valor Final Valor Total Situa&ccedil;&atilde;o\\n</p>\\n\\n            <p>CONSTRUTORA TOMBINI LTDA 248.200,00 248.200,00 Homologado em 12/11/2024 14:42:34 Por:\\nHilario Reffatti\\n</p>\\n\\n            <p>Hilario Reffatti\\n</p>\\n\\n            <p>Autoridade Competente</p>\\n\\n            <p/>\\n\\n        </div>\\n\\n    </body>\\n</html>\\n',\n",
       "  'url': 'https://www.diariomunicipal.sc.gov.br/arquivosbd/atos/2024/11/1731438333_1802024homol._extrato.pdf'},\n",
       " '6611505': {'titulo': 'PL 180-2024- AUTORIZAÇÃO',\n",
       "  'data': '2024-11-12 16:10:10',\n",
       "  'cod_registro_info_sfinge': None,\n",
       "  'municipio': 'Ipumirim',\n",
       "  'entidade': 'Prefeitura Municipal de Ipumirim',\n",
       "  'categoria': 'Licitações',\n",
       "  'link': 'https://www.diariomunicipal.sc.gov.br/?q=id:6611505',\n",
       "  'texto': '<html xmlns=\"http://www.w3.org/1999/xhtml\">\\n\\n    <head>\\n\\n        <meta name=\"pdf:PDFVersion\" content=\"1.7\"/>\\n\\n        <meta name=\"pdf:docinfo:title\" content=\"Microsoft Word - 180-2024-AUTORIZA&Ccedil;&Atilde;O\"/>\\n\\n        <meta name=\"pdf:hasXFA\" content=\"false\"/>\\n\\n        <meta name=\"access_permission:modify_annotations\" content=\"true\"/>\\n\\n        <meta name=\"access_permission:can_print_degraded\" content=\"true\"/>\\n\\n        <meta name=\"dcterms:created\" content=\"2024-11-12T19:09:32Z\"/>\\n\\n        <meta name=\"dcterms:modified\" content=\"2024-11-12T19:09:32Z\"/>\\n\\n        <meta name=\"dc:format\" content=\"application/pdf; version=1.7\"/>\\n\\n        <meta name=\"access_permission:fill_in_form\" content=\"true\"/>\\n\\n        <meta name=\"pdf:docinfo:modified\" content=\"2024-11-12T19:09:32Z\"/>\\n\\n        <meta name=\"pdf:hasCollection\" content=\"false\"/>\\n\\n        <meta name=\"pdf:encrypted\" content=\"false\"/>\\n\\n        <meta name=\"dc:title\" content=\"Microsoft Word - 180-2024-AUTORIZA&Ccedil;&Atilde;O\"/>\\n\\n        <meta name=\"Content-Length\" content=\"320859\"/>\\n\\n        <meta name=\"pdf:hasMarkedContent\" content=\"false\"/>\\n\\n        <meta name=\"Content-Type\" content=\"application/pdf\"/>\\n\\n        <meta name=\"pdf:producer\" content=\"Microsoft: Print To PDF\"/>\\n\\n        <meta name=\"access_permission:extract_for_accessibility\" content=\"true\"/>\\n\\n        <meta name=\"access_permission:assemble_document\" content=\"true\"/>\\n\\n        <meta name=\"xmpTPg:NPages\" content=\"1\"/>\\n\\n        <meta name=\"pdf:hasXMP\" content=\"false\"/>\\n\\n        <meta name=\"access_permission:extract_content\" content=\"true\"/>\\n\\n        <meta name=\"access_permission:can_print\" content=\"true\"/>\\n\\n        <meta name=\"X-TIKA:Parsed-By\" content=\"org.apache.tika.parser.CompositeParser\"/>\\n\\n        <meta name=\"X-TIKA:Parsed-By\" content=\"org.apache.tika.parser.pdf.PDFParser\"/>\\n\\n        <meta name=\"access_permission:can_modify\" content=\"true\"/>\\n\\n        <meta name=\"pdf:docinfo:producer\" content=\"Microsoft: Print To PDF\"/>\\n\\n        <meta name=\"pdf:docinfo:created\" content=\"2024-11-12T19:09:32Z\"/>\\n\\n        <title>Microsoft Word - 180-2024-AUTORIZA&Ccedil;&Atilde;O</title>\\n\\n    </head>\\n\\n    <body>\\n        <div class=\"page\">\\n            <p/>\\n\\n            <p> \\n</p>\\n\\n            <p>ESTADO DE SANTA CATARINA \\nMUNIC&Iacute;PIO DE IPUMIRIM \\n \\n \\n \\n</p>\\n\\n            <p> \\n</p>\\n\\n            <p>                         \\n</p>\\n\\n            <p>AUTORIZA&Ccedil;&Atilde;O DA AUTORIDADE COMPETENTE \\n \\nO Prefeito Municipal de Ipumirim, Hil&aacute;rio Reffatti, tendo em vista o que consta no presente \\nprocesso, considerando o disposto no art. 28, inciso II da Lei n&ordm; 14.133/2021, reconhece a presente \\nConcorr&ecirc;ncia Eletr&ocirc;nica, nos fundamentos acima citados, assim, estando cumpridas as \\nformalidades previstas na Lei n&ordm; 14.133/2021, AUTORIZO a contrata&ccedil;&atilde;o nos termos do Processo \\nAdministrativo n&ordm; 180/2024, na modalidade Concorr&ecirc;ncia Eletr&ocirc;nica o n&ordm; 05/2024, cujo objeto &eacute;: \\nExecu&ccedil;&atilde;o de passeio p&uacute;blico as margens da SC-154, quil&ocirc;metros 89 e 90, acesso sul do munic&iacute;pio \\nde Ipumirim/SC, conforme termo de refer&ecirc;ncia anexo ao edital, no valor total de R$ 248.200,00 \\n \\n</p>\\n\\n            <p>Ipumirim, 12 de novembro de 2024 \\n \\n \\n \\n \\n</p>\\n\\n            <p>HILARIO REFFATTI \\nPREFEITO MUNICIPAL </p>\\n\\n            <p/>\\n\\n        </div>\\n\\n    </body>\\n</html>\\n',\n",
       "  'url': 'https://www.diariomunicipal.sc.gov.br/arquivosbd/atos/2024/11/1731438605_1802024autorizao_extrato.pdf'},\n",
       " '6613133': {'titulo': 'PROCESSO DE LICITAÇÃO Nº. 131/2024 DISPENSA Nº. 39/2024',\n",
       "  'data': '2024-11-12 22:56:16',\n",
       "  'cod_registro_info_sfinge': None,\n",
       "  'municipio': 'Arabutã',\n",
       "  'entidade': 'Prefeitura Municipal de Arabutã',\n",
       "  'categoria': 'Licitações',\n",
       "  'link': 'https://www.diariomunicipal.sc.gov.br/?q=id:6613133',\n",
       "  'texto': '<html xmlns=\"http://www.w3.org/1999/xhtml\">\\n\\n    <head>\\n\\n        <meta name=\"cp:revision\" content=\"5\"/>\\n\\n        <meta name=\"extended-properties:AppVersion\" content=\"15.0000\"/>\\n\\n        <meta name=\"meta:paragraph-count\" content=\"1\"/>\\n\\n        <meta name=\"meta:word-count\" content=\"138\"/>\\n\\n        <meta name=\"extended-properties:Application\" content=\"Microsoft Office Word\"/>\\n\\n        <meta name=\"meta:last-author\" content=\"user\"/>\\n\\n        <meta name=\"dc:creator\" content=\"OEM\"/>\\n\\n        <meta name=\"extended-properties:Company\" content=\"casa\"/>\\n\\n        <meta name=\"meta:print-date\" content=\"2022-01-04T19:21:00Z\"/>\\n\\n        <meta name=\"xmpTPg:NPages\" content=\"1\"/>\\n\\n        <meta name=\"dcterms:created\" content=\"2024-11-11T14:22:00Z\"/>\\n\\n        <meta name=\"meta:line-count\" content=\"6\"/>\\n\\n        <meta name=\"dcterms:modified\" content=\"2024-11-13T01:55:00Z\"/>\\n\\n        <meta name=\"meta:character-count\" content=\"746\"/>\\n\\n        <meta name=\"extended-properties:Template\" content=\"Normal.dotm\"/>\\n\\n        <meta name=\"meta:character-count-with-spaces\" content=\"883\"/>\\n\\n        <meta name=\"X-TIKA:Parsed-By\" content=\"org.apache.tika.parser.CompositeParser\"/>\\n\\n        <meta name=\"X-TIKA:Parsed-By\" content=\"org.apache.tika.parser.DefaultParser\"/>\\n\\n        <meta name=\"X-TIKA:Parsed-By\" content=\"org.apache.tika.parser.microsoft.ooxml.OOXMLParser\"/>\\n\\n        <meta name=\"dc:title\" content=\" \"/>\\n\\n        <meta name=\"extended-properties:DocSecurityString\" content=\"None\"/>\\n\\n        <meta name=\"extended-properties:TotalTime\" content=\"8\"/>\\n\\n        <meta name=\"Content-Length\" content=\"23074\"/>\\n\\n        <meta name=\"meta:page-count\" content=\"1\"/>\\n\\n        <meta name=\"Content-Type\" content=\"application/vnd.openxmlformats-officedocument.wordprocessingml.document\"/>\\n\\n        <meta name=\"dc:publisher\" content=\"casa\"/>\\n\\n        <title> </title>\\n\\n    </head>\\n\\n    <body>\\n        <h1 class=\"title\">\\n            <b>PROCESSO DE LICITA&Ccedil;&Atilde;O N&ordm;. 131/2024</b>\\n        </h1>\\n\\n        <h1 class=\"title\">\\n            <b>DISPENSA N&ordm;. 39/2024</b>\\n        </h1>\\n\\n        <p>O MUNIC&Iacute;PIO DE ARABUT&Atilde;, trav&eacute;s de sua Prefeita, Sra. Olguin Ricardo Metz, torna p&uacute;blico que realizar&aacute; licita&ccedil;&atilde;o, na modalidade DISPENSA, na forma ELETR&Ocirc;NICA, nos termos da \\n            <a href=\"http://www.planalto.gov.br/ccivil_03/_ato2019-2022/2021/lei/L14133.htm\">Lei n&ordm; 14.133, de 2021</a>, pelo e-mail \\n            <a href=\"mailto:licitacoes@arabuta.sc.gov.br\">licitacoes@arabuta.sc.gov.br</a> \\n        </p>\\n\\n        <p>\\n            <a name=\"_Toc122606103\"/>PROPOSTAS\\n            <b>: 11/11/2024 a 14/11/2024 </b>(at&eacute; as 15h)\\n        </p>\\n\\n        <p>\\n            <a name=\"_GoBack\"/>OBJETO: Contrata&ccedil;&atilde;o de uma empresa especializada para fornecer um COMPUTADOR ESTA&Ccedil;&Atilde;O DE TRABALHO AVAN&Ccedil;ADA E LICEN&Ccedil;A DO WINDOWS SERVER 2022 STANDARD COA. ESSES ITENS VISAM MODERNIZAR A INFRAESTRUTURA TECNOL&Oacute;GICA DA POL&Iacute;CIA MILITAR, melhorando a efici&ecirc;ncia de suas opera&ccedil;&otilde;es di&aacute;rias e garantindo a seguran&ccedil;a da comunidade. ARABUT&Atilde; SC, 11 de novembro de 2024. \\n            <b>OLGUIN RICARDO METZ- Prefeito em Exerc&iacute;cio </b>\\n        </p>\\n\\n        <p/>\\n\\n        <p/>\\n\\n        <div class=\"embedded\" id=\"/docProps/thumbnail.emf\"/>\\n\\n    </body>\\n</html>\\n',\n",
       "  'url': 'https://www.diariomunicipal.sc.gov.br/arquivosbd/atos/2024/11/1731462965_aviso_dispensa_039.2024_extrato.pdf'},\n",
       " '6611976': {'titulo': 'PROCESSO LICITATÓRIO 85.2024 - PREGÃO ELETRÔNICO 22.2024',\n",
       "  'data': '2024-11-12 17:59:35',\n",
       "  'cod_registro_info_sfinge': '86F67436F8FD043AEB5032C6AD2AC7C8B5664376',\n",
       "  'municipio': 'São Bonifácio',\n",
       "  'entidade': 'Prefeitura municipal de São Bonifácio',\n",
       "  'categoria': 'Licitações',\n",
       "  'link': 'https://www.diariomunicipal.sc.gov.br/?q=id:6611976',\n",
       "  'texto': '<html xmlns=\"http://www.w3.org/1999/xhtml\">\\n\\n    <head>\\n\\n        <meta name=\"pdf:PDFVersion\" content=\"1.7\"/>\\n\\n        <meta name=\"xmp:CreatorTool\" content=\"Microsoft&reg; Word 2019\"/>\\n\\n        <meta name=\"pdf:hasXFA\" content=\"false\"/>\\n\\n        <meta name=\"access_permission:modify_annotations\" content=\"true\"/>\\n\\n        <meta name=\"access_permission:can_print_degraded\" content=\"true\"/>\\n\\n        <meta name=\"dc:creator\" content=\"Prefeitura\"/>\\n\\n        <meta name=\"dcterms:created\" content=\"2024-11-12T20:53:24Z\"/>\\n\\n        <meta name=\"dcterms:modified\" content=\"2024-11-12T20:53:24Z\"/>\\n\\n        <meta name=\"dc:format\" content=\"application/pdf; version=1.7\"/>\\n\\n        <meta name=\"xmpMM:DocumentID\" content=\"uuid:B2AA1A5C-3BDB-42A2-8247-D4E759D96620\"/>\\n\\n        <meta name=\"pdf:docinfo:creator_tool\" content=\"Microsoft&reg; Word 2019\"/>\\n\\n        <meta name=\"access_permission:fill_in_form\" content=\"true\"/>\\n\\n        <meta name=\"pdf:docinfo:modified\" content=\"2024-11-12T20:53:24Z\"/>\\n\\n        <meta name=\"pdf:hasCollection\" content=\"false\"/>\\n\\n        <meta name=\"pdf:encrypted\" content=\"false\"/>\\n\\n        <meta name=\"xmp:CreateDate\" content=\"2024-11-12T17:53:24Z\"/>\\n\\n        <meta name=\"Content-Length\" content=\"111634\"/>\\n\\n        <meta name=\"pdf:hasMarkedContent\" content=\"true\"/>\\n\\n        <meta name=\"Content-Type\" content=\"application/pdf\"/>\\n\\n        <meta name=\"xmp:ModifyDate\" content=\"2024-11-12T17:53:24Z\"/>\\n\\n        <meta name=\"pdf:docinfo:creator\" content=\"Prefeitura\"/>\\n\\n        <meta name=\"dc:language\" content=\"pt-BR\"/>\\n\\n        <meta name=\"pdf:producer\" content=\"Microsoft&reg; Word 2019\"/>\\n\\n        <meta name=\"access_permission:extract_for_accessibility\" content=\"true\"/>\\n\\n        <meta name=\"access_permission:assemble_document\" content=\"true\"/>\\n\\n        <meta name=\"xmpTPg:NPages\" content=\"1\"/>\\n\\n        <meta name=\"pdf:hasXMP\" content=\"true\"/>\\n\\n        <meta name=\"access_permission:extract_content\" content=\"true\"/>\\n\\n        <meta name=\"access_permission:can_print\" content=\"true\"/>\\n\\n        <meta name=\"X-TIKA:Parsed-By\" content=\"org.apache.tika.parser.CompositeParser\"/>\\n\\n        <meta name=\"X-TIKA:Parsed-By\" content=\"org.apache.tika.parser.pdf.PDFParser\"/>\\n\\n        <meta name=\"access_permission:can_modify\" content=\"true\"/>\\n\\n        <meta name=\"pdf:docinfo:producer\" content=\"Microsoft&reg; Word 2019\"/>\\n\\n        <meta name=\"pdf:docinfo:created\" content=\"2024-11-12T20:53:24Z\"/>\\n\\n        <title>&#0;</title>\\n\\n    </head>\\n\\n    <body>\\n        <body>\\n            <p>ESTADO DE SANTA CATARINA MUNIC&Iacute;PIO DE S&Atilde;O BONIF&Aacute;CIO AVISO DE LICITA&Ccedil;&Atilde;O Processo de Licita&ccedil;&atilde;o 85/2024  Edital de Preg&atilde;o Eletr&ocirc;nico 22/2024 do Tipo: Menor Pre&ccedil;o por lote; OBJETO: Contrata&ccedil;&atilde;o de Empresa para Fornecimento de Moveis Expositores para o Museu Historico Professor Francisco Serafim Guilherme Schaden. conforme especifica&ccedil;&otilde;es no edital e anexos. In&iacute;cio da sess&atilde;o p&uacute;blica: &agrave;s 14:00 horas do dia 26/11/2024. Maiores informa&ccedil;&otilde;es poder&atilde;o ser obtidas junto ao Departamento de Compras e Licita&ccedil;&otilde;es da Prefeitura sito &agrave; Avenida 29 de Dezembro, 12 &ndash; Centro &ndash; SC, pelo fone (48) 3252-0111 ou pelo e-mail:\\n                <a href=\"mailto:licitacaoecomprassaobonifacio@gmail.com\">licitacaoecomprassaobonifacio@gmail.com</a>. S&atilde;o Bonif&aacute;cio (SC), 11 de novembro de 2024. Laurino Peters &ndash; Prefeito Municipal.\\n            </p>\\n\\n            <p/>\\n\\n            <p/>\\n\\n        </body>\\n        <div class=\"page\">\\n            <p/>\\n\\n        </div>\\n\\n    </body>\\n</html>\\n',\n",
       "  'url': 'https://www.diariomunicipal.sc.gov.br/arquivosbd/atos/2024/11/1731445166_processo_licitatrio_85.2024__prego_eletrnico_22.2024_2_extrato.pdf'},\n",
       " '6611707': {'titulo': 'EXTRATO - AVISO DE DISPENSA DE LICITAÇÃO Nº 0019 - PAL 0111_2024 - E',\n",
       "  'data': '2024-11-12 16:48:26',\n",
       "  'cod_registro_info_sfinge': None,\n",
       "  'municipio': None,\n",
       "  'entidade': 'CINCATARINA - Consórcio Interfederativo Santa Catarina',\n",
       "  'categoria': 'Licitações',\n",
       "  'link': 'https://www.diariomunicipal.sc.gov.br/?q=id:6611707',\n",
       "  'texto': '<html xmlns=\"http://www.w3.org/1999/xhtml\">\\n\\n    <head>\\n\\n        <meta name=\"pdf:PDFVersion\" content=\"1.4\"/>\\n\\n        <meta name=\"xmp:CreatorTool\" content=\"Chromium\"/>\\n\\n        <meta name=\"pdf:hasXFA\" content=\"false\"/>\\n\\n        <meta name=\"access_permission:modify_annotations\" content=\"true\"/>\\n\\n        <meta name=\"access_permission:can_print_degraded\" content=\"true\"/>\\n\\n        <meta name=\"dcterms:created\" content=\"2024-11-12T19:14:33Z\"/>\\n\\n        <meta name=\"dcterms:modified\" content=\"2024-11-12T19:45:13Z\"/>\\n\\n        <meta name=\"dc:format\" content=\"application/pdf; version=1.4\"/>\\n\\n        <meta name=\"pdf:docinfo:creator_tool\" content=\"Chromium\"/>\\n\\n        <meta name=\"access_permission:fill_in_form\" content=\"true\"/>\\n\\n        <meta name=\"pdf:docinfo:modified\" content=\"2024-11-12T19:45:13Z\"/>\\n\\n        <meta name=\"pdf:foundNonAdobeExtensionName\" content=\"ESIC\"/>\\n\\n        <meta name=\"pdf:hasCollection\" content=\"false\"/>\\n\\n        <meta name=\"pdf:encrypted\" content=\"false\"/>\\n\\n        <meta name=\"Content-Length\" content=\"360952\"/>\\n\\n        <meta name=\"pdf:hasMarkedContent\" content=\"false\"/>\\n\\n        <meta name=\"Content-Type\" content=\"application/pdf\"/>\\n\\n        <meta name=\"pdf:producer\" content=\"Skia/PDF m90 - by Lacuna Software PKI SDK\"/>\\n\\n        <meta name=\"access_permission:extract_for_accessibility\" content=\"true\"/>\\n\\n        <meta name=\"access_permission:assemble_document\" content=\"true\"/>\\n\\n        <meta name=\"xmpTPg:NPages\" content=\"1\"/>\\n\\n        <meta name=\"pdf:hasAcroFormFields\" content=\"true\"/>\\n\\n        <meta name=\"pdf:hasXMP\" content=\"false\"/>\\n\\n        <meta name=\"signature:filter\" content=\"Adobe.PPKLite\"/>\\n\\n        <meta name=\"access_permission:extract_content\" content=\"true\"/>\\n\\n        <meta name=\"signature:date\" content=\"2024-11-12T19:45:11Z\"/>\\n\\n        <meta name=\"access_permission:can_print\" content=\"true\"/>\\n\\n        <meta name=\"X-TIKA:Parsed-By\" content=\"org.apache.tika.parser.CompositeParser\"/>\\n\\n        <meta name=\"X-TIKA:Parsed-By\" content=\"org.apache.tika.parser.pdf.PDFParser\"/>\\n\\n        <meta name=\"access_permission:can_modify\" content=\"true\"/>\\n\\n        <meta name=\"pdf:docinfo:producer\" content=\"Skia/PDF m90 - by Lacuna Software PKI SDK\"/>\\n\\n        <meta name=\"pdf:docinfo:created\" content=\"2024-11-12T19:14:33Z\"/>\\n\\n        <meta name=\"hasSignature\" content=\"true\"/>\\n\\n        <title>&#0;</title>\\n\\n    </head>\\n\\n    <body>\\n        <div class=\"page\">\\n            <p/>\\n\\n            <p>Cons&oacute;rcio Interfederativo Santa Catarina - CINCATARINA\\n</p>\\n\\n            <p>Aviso de Dispensa de Licita&ccedil;&atilde;o\\n</p>\\n\\n            <p>PROCESSO ADMINISTRATIVO LICITAT&Oacute;RIO ELETR&Ocirc;NICO N&ordm; 0111/2024 - e\\n</p>\\n\\n            <p>DISPENSA DE LICITA&Ccedil;&Atilde;O N&ordm; 0019/2024\\n</p>\\n\\n            <p>Contratada: FAVORITA EVENTOS E TURISMO LTDA\\n</p>\\n\\n            <p>Valor: O valor a ser pago ser&aacute; de R$ 10.117,50 (dez mil cento e dezessete reais e\\ncinquenta centavos).\\n</p>\\n\\n            <p> \\n</p>\\n\\n            <p>Objeto: Contrata&ccedil;&atilde;o direta por dispensa de licita&ccedil;&atilde;o, para contratar empresa especializada\\nna organiza&ccedil;&atilde;o de eventos para integra&ccedil;&atilde;o das entidades do Sistema FECAM, quais sejam\\nCINCATARINA, CIGA, ARIS, EGEM e FECAM , com loca&ccedil;&atilde;o de espa&ccedil;o, incluindo som,\\nluz, proje&ccedil;&atilde;o e alimenta&ccedil;&atilde;o (um coffee break e um coquetel) para aproximadamente 170\\npessoas, a ser realizado no dia 21 de novembro de 2024, no Hotel Favorita, em S&atilde;o\\nJos&eacute;/SC.\\n</p>\\n\\n            <p> \\n</p>\\n\\n            <p>Florian&oacute;polis (SC), 12 de novembro de 2024.\\n</p>\\n\\n            <p>Andr&eacute; Luiz de Oliveira\\n</p>\\n\\n            <p> \\n</p>\\n\\n            <p>Diretor Executivo</p>\\n\\n            <p/>\\n\\n        </div>\\n\\n    </body>\\n</html>\\n',\n",
       "  'url': 'https://www.diariomunicipal.sc.gov.br/arquivosbd/atos/2024/11/1731440905_fc50e1091768471c96056d5b49bdb8fb_extrato.pdf'},\n",
       " '6611530': {'titulo': 'EXTRATO DE CHAMAMENTO Nº 77/2024',\n",
       "  'data': '2024-11-12 16:19:52',\n",
       "  'cod_registro_info_sfinge': None,\n",
       "  'municipio': 'Lontras',\n",
       "  'entidade': 'Prefeitura municipal de Lontras',\n",
       "  'categoria': 'Licitações',\n",
       "  'link': 'https://www.diariomunicipal.sc.gov.br/?q=id:6611530',\n",
       "  'texto': '<html xmlns=\"http://www.w3.org/1999/xhtml\">\\n\\n    <head>\\n\\n        <meta name=\"pdf:PDFVersion\" content=\"1.6\"/>\\n\\n        <meta name=\"xmp:CreatorTool\" content=\"Microsoft&reg; Word 2016\"/>\\n\\n        <meta name=\"pdf:hasXFA\" content=\"false\"/>\\n\\n        <meta name=\"access_permission:modify_annotations\" content=\"true\"/>\\n\\n        <meta name=\"access_permission:can_print_degraded\" content=\"true\"/>\\n\\n        <meta name=\"dc:creator\" content=\"PML\"/>\\n\\n        <meta name=\"dcterms:created\" content=\"2024-11-12T19:18:40Z\"/>\\n\\n        <meta name=\"dcterms:modified\" content=\"2024-11-12T19:19:06Z\"/>\\n\\n        <meta name=\"dc:format\" content=\"application/pdf; version=1.6\"/>\\n\\n        <meta name=\"xmpMM:DocumentID\" content=\"uuid:41e3b8c4-53cc-47cd-94fa-2f2f3a1dee46\"/>\\n\\n        <meta name=\"pdf:docinfo:creator_tool\" content=\"Microsoft&reg; Word 2016\"/>\\n\\n        <meta name=\"access_permission:fill_in_form\" content=\"true\"/>\\n\\n        <meta name=\"pdf:docinfo:modified\" content=\"2024-11-12T19:19:06Z\"/>\\n\\n        <meta name=\"pdf:hasCollection\" content=\"false\"/>\\n\\n        <meta name=\"pdf:encrypted\" content=\"false\"/>\\n\\n        <meta name=\"xmp:CreateDate\" content=\"2024-11-12T16:18:40Z\"/>\\n\\n        <meta name=\"Content-Length\" content=\"76199\"/>\\n\\n        <meta name=\"pdf:hasMarkedContent\" content=\"true\"/>\\n\\n        <meta name=\"Content-Type\" content=\"application/pdf\"/>\\n\\n        <meta name=\"xmp:ModifyDate\" content=\"2024-11-12T16:19:06Z\"/>\\n\\n        <meta name=\"pdf:docinfo:creator\" content=\"PML\"/>\\n\\n        <meta name=\"xmp:MetadataDate\" content=\"2024-11-12T16:19:06Z\"/>\\n\\n        <meta name=\"dc:language\" content=\"pt-BR\"/>\\n\\n        <meta name=\"pdf:producer\" content=\"Microsoft&reg; Word 2016\"/>\\n\\n        <meta name=\"access_permission:extract_for_accessibility\" content=\"true\"/>\\n\\n        <meta name=\"access_permission:assemble_document\" content=\"true\"/>\\n\\n        <meta name=\"xmpTPg:NPages\" content=\"1\"/>\\n\\n        <meta name=\"pdf:hasAcroFormFields\" content=\"true\"/>\\n\\n        <meta name=\"pdf:hasXMP\" content=\"true\"/>\\n\\n        <meta name=\"signature:filter\" content=\"Adobe.PPKLite\"/>\\n\\n        <meta name=\"access_permission:extract_content\" content=\"true\"/>\\n\\n        <meta name=\"signature:name\" content=\"MARCIONEI HILLESHEIM:03799851950\"/>\\n\\n        <meta name=\"signature:date\" content=\"2024-11-12T19:19:06Z\"/>\\n\\n        <meta name=\"access_permission:can_print\" content=\"true\"/>\\n\\n        <meta name=\"X-TIKA:Parsed-By\" content=\"org.apache.tika.parser.CompositeParser\"/>\\n\\n        <meta name=\"X-TIKA:Parsed-By\" content=\"org.apache.tika.parser.pdf.PDFParser\"/>\\n\\n        <meta name=\"access_permission:can_modify\" content=\"true\"/>\\n\\n        <meta name=\"pdf:docinfo:producer\" content=\"Microsoft&reg; Word 2016\"/>\\n\\n        <meta name=\"pdf:docinfo:created\" content=\"2024-11-12T19:18:40Z\"/>\\n\\n        <meta name=\"hasSignature\" content=\"true\"/>\\n\\n        <title>&#0;</title>\\n\\n    </head>\\n\\n    <body>\\n        <div class=\"part\">\\n            <h1>ESTADO DE SANTA CATARINA</h1>\\n\\n            <h2>MUNIC&Iacute;PIO DE LONTRAS</h2>\\n\\n            <p>CHAMAMENTO P&Uacute;BLICO 77/2024</p>\\n\\n            <p>PROCESSO ADMINISTRATIVO 77/2024</p>\\n\\n            <p>OBJETO: CHAMAMENTO P&Uacute;BLICO PARA AUTORIZA&Ccedil;&Atilde;O DE USO DE ESPA&Ccedil;O P&Uacute;BLICO PARA A INSTALA&Ccedil;&Atilde;O DE BARRACAS PARA VENDA DE G&Ecirc;NEROS ALIMENT&Iacute;CIOS E BEBIDAS PARA O EVENTO NATAL NA PRA&Ccedil;A, QUE SER&Aacute; REALIZADO NO DIA 06/12/2024. Entrega dos Envelopes: a partir do dia 13/11/2024 at&eacute; &agrave;s 17:00 horas do dia 27/11/2024. Maiores Informa&ccedil;&otilde;es junto ao Setor de Licita&ccedil;&otilde;es pelo Telefone/WhatsApp 3523-9402 ou site lontras.atende.net. Lontras, 12 de novembro de 2024.</p>\\n\\n            <p/>\\n\\n            <p/>\\n\\n            <p/>\\n\\n            <p>MARCIONEI HILLESHEIM. Prefeito.</p>\\n\\n            <p/>\\n\\n        </div>\\n\\n        <div class=\"page\">\\n            <p/>\\n\\n        </div>\\n\\n    </body>\\n</html>\\n',\n",
       "  'url': 'https://www.diariomunicipal.sc.gov.br/arquivosbd/atos/2024/11/1731439184_publicao_edital_.2023_extrato.pdf'},\n",
       " '6611475': {'titulo': 'EXTRATO DO TERCEIRO TERMO ADITIVO AO CONTRATO N° 10/2024 - PMG',\n",
       "  'data': '2024-11-12 16:08:00',\n",
       "  'cod_registro_info_sfinge': None,\n",
       "  'municipio': 'Guaramirim',\n",
       "  'entidade': 'Prefeitura municipal de Guaramirim',\n",
       "  'categoria': 'Licitações',\n",
       "  'link': 'https://www.diariomunicipal.sc.gov.br/?q=id:6611475',\n",
       "  'texto': '<html xmlns=\"http://www.w3.org/1999/xhtml\">\\n\\n    <head>\\n\\n        <meta name=\"cp:revision\" content=\"31\"/>\\n\\n        <meta name=\"extended-properties:AppVersion\" content=\"16.0000\"/>\\n\\n        <meta name=\"meta:paragraph-count\" content=\"2\"/>\\n\\n        <meta name=\"meta:word-count\" content=\"183\"/>\\n\\n        <meta name=\"extended-properties:Application\" content=\"Microsoft Office Word\"/>\\n\\n        <meta name=\"meta:last-author\" content=\"Carine Sczepaniak Alves da Silva\"/>\\n\\n        <meta name=\"dc:creator\" content=\"x\"/>\\n\\n        <meta name=\"extended-properties:Company\" content=\"\"/>\\n\\n        <meta name=\"xmpTPg:NPages\" content=\"1\"/>\\n\\n        <meta name=\"dcterms:created\" content=\"2016-05-16T11:10:00Z\"/>\\n\\n        <meta name=\"meta:line-count\" content=\"8\"/>\\n\\n        <meta name=\"dcterms:modified\" content=\"2024-11-12T19:00:00Z\"/>\\n\\n        <meta name=\"meta:character-count\" content=\"989\"/>\\n\\n        <meta name=\"extended-properties:Template\" content=\"Normal.dotm\"/>\\n\\n        <meta name=\"meta:character-count-with-spaces\" content=\"1170\"/>\\n\\n        <meta name=\"X-TIKA:Parsed-By\" content=\"org.apache.tika.parser.CompositeParser\"/>\\n\\n        <meta name=\"X-TIKA:Parsed-By\" content=\"org.apache.tika.parser.DefaultParser\"/>\\n\\n        <meta name=\"X-TIKA:Parsed-By\" content=\"org.apache.tika.parser.microsoft.ooxml.OOXMLParser\"/>\\n\\n        <meta name=\"dc:title\" content=\"ESTADO DE SANTA CATARINA\"/>\\n\\n        <meta name=\"extended-properties:DocSecurityString\" content=\"None\"/>\\n\\n        <meta name=\"extended-properties:TotalTime\" content=\"113\"/>\\n\\n        <meta name=\"Content-Length\" content=\"15420\"/>\\n\\n        <meta name=\"meta:page-count\" content=\"1\"/>\\n\\n        <meta name=\"Content-Type\" content=\"application/vnd.openxmlformats-officedocument.wordprocessingml.document\"/>\\n\\n        <meta name=\"dc:publisher\" content=\"\"/>\\n\\n        <title>ESTADO DE SANTA CATARINA</title>\\n\\n    </head>\\n\\n    <body>\\n        <p>\\n            <b>ESTADO DE SANTA CATARINA</b>\\n        </p>\\n\\n        <p>\\n            <b>PREFEITURA MUNICIPAL DE GUARAMIRIM</b>\\n        </p>\\n\\n        <p>\\n            <b>SECRETARIA DE ADMINISTRACAO/SETOR DE LICITA&Ccedil;&Otilde;ES</b>\\n        </p>\\n\\n        <p>\\n            <b>EXTRATO DO TERCEIRO TERMO ADITIVO AO CONTRATO N&deg; 10/2024 - PMG</b>\\n        </p>\\n\\n        <p>\\n            <b>Processo de Licita&ccedil;&atilde;o: 15/2024 - PMG</b>\\n        </p>\\n\\n        <p>\\n            <b>Objeto da Licita&ccedil;&atilde;o:</b> DISPENSA EMERGENCIAL DE CONTRATA&Ccedil;&Atilde;O DE EMPRESA ESPECIALIZADA PARA PRESTA&Ccedil;&Atilde;O DE SERVI&Ccedil;OS TERCEIRIZADOS E APOIO &Agrave;S ATIVIDADES OPERACIONAIS E ADMINISTRATIVAS DO MUNIC&Iacute;PIO DE GUARAMIRIM.\\n        </p>\\n\\n        <p>\\n            <b>Contratante</b>: \\n            <b>MUNIC&Iacute;PIO DE GUARAMIRIM</b>, pessoa jur&iacute;dica de direito p&uacute;blico interno, inscrita no CNPJ sob o n&ordm; 83.102.475/0001-16, com sede na Rua 28 de Agosto, n&ordm; 2042, bairro Centro, em Guaramirim, Santa Catarina, CEP 89.270-000.\\n        </p>\\n\\n        <p>\\n            <b>Contratada: ORBENK ADMINISTRA&Ccedil;&Atilde;O E SERVI&Ccedil;OS LTDA</b>, pessoa jur&iacute;dica de direito privado, inscrita no CNPJ sob o n&ordm; 79.283.065/0001-41 e Inscri&ccedil;&atilde;o Estadual n&ordm; 251310469, estabelecida na Rua Dona Leopoldina, n&ordm; 26, bairro Centro, munic&iacute;pio de Joinville, estado de Santa Catarina, CEP 89.201-090.\\n        </p>\\n\\n        <p>\\n            <b>Resumo do aditivo: </b>O presente termo aditivo tem por objeto:\\n        </p>\\n\\n        <p>\\n            <b>a) </b>prorrogar o prazo de vig&ecirc;ncia do contrato;\\n        </p>\\n\\n        <p/>\\n\\n        <p>\\n            <b>Vig&ecirc;ncia: In&iacute;cio: 04/11/2024  </b>   \\n            <b>T&eacute;rmino: 31/12/2024</b>\\t\\n        </p>\\n\\n        <p/>\\n\\n        <p>Guaramirim (SC), 12 de novembro de 2024.</p>\\n\\n        <p>\\n            <b>OSVALDO DEVIGILI</b>\\n        </p>\\n\\n        <p>\\n            <b>PREFEITO MUNICIPAL</b>\\n        </p>\\n\\n        <p/>\\n\\n    </body>\\n</html>\\n',\n",
       "  'url': 'https://www.diariomunicipal.sc.gov.br/arquivosbd/atos/2024/11/1731438474_extrato_3_aditivo_ao_contrato_extrato.pdf'},\n",
       " '6611572': {'titulo': 'TERMO DE HOMOLOGAÇAO DISPENSA 128/2024',\n",
       "  'data': '2024-11-12 16:30:10',\n",
       "  'cod_registro_info_sfinge': 'CB77A86BC825EFA8CECD99DBEFEC3AB65972221F',\n",
       "  'municipio': 'Vitor Meireles',\n",
       "  'entidade': 'Prefeitura municipal de Vitor Meireles',\n",
       "  'categoria': 'Licitações',\n",
       "  'link': 'https://www.diariomunicipal.sc.gov.br/?q=id:6611572',\n",
       "  'texto': '<html xmlns=\"http://www.w3.org/1999/xhtml\">\\n\\n    <head>\\n\\n        <meta name=\"pdf:PDFVersion\" content=\"1.5\"/>\\n\\n        <meta name=\"xmp:CreatorTool\" content=\"BIRT Report Engine /usr/local/tomcat/webapps/WebReport/WEB-INF/lib/org.eclipse.birt.runtime_4.10.0-20221001.jar.\"/>\\n\\n        <meta name=\"pdf:hasXFA\" content=\"false\"/>\\n\\n        <meta name=\"access_permission:modify_annotations\" content=\"true\"/>\\n\\n        <meta name=\"access_permission:can_print_degraded\" content=\"true\"/>\\n\\n        <meta name=\"dcterms:created\" content=\"2024-11-12T19:23:50Z\"/>\\n\\n        <meta name=\"dcterms:modified\" content=\"2024-11-12T19:23:50Z\"/>\\n\\n        <meta name=\"dc:format\" content=\"application/pdf; version=1.5\"/>\\n\\n        <meta name=\"pdf:docinfo:creator_tool\" content=\"BIRT Report Engine /usr/local/tomcat/webapps/WebReport/WEB-INF/lib/org.eclipse.birt.runtime_4.10.0-20221001.jar.\"/>\\n\\n        <meta name=\"access_permission:fill_in_form\" content=\"true\"/>\\n\\n        <meta name=\"pdf:docinfo:modified\" content=\"2024-11-12T19:23:50Z\"/>\\n\\n        <meta name=\"pdf:hasCollection\" content=\"false\"/>\\n\\n        <meta name=\"pdf:encrypted\" content=\"false\"/>\\n\\n        <meta name=\"Content-Length\" content=\"60623\"/>\\n\\n        <meta name=\"pdf:hasMarkedContent\" content=\"false\"/>\\n\\n        <meta name=\"Content-Type\" content=\"application/pdf\"/>\\n\\n        <meta name=\"pdf:producer\" content=\"OpenPDF 1.3.26\"/>\\n\\n        <meta name=\"access_permission:extract_for_accessibility\" content=\"true\"/>\\n\\n        <meta name=\"access_permission:assemble_document\" content=\"true\"/>\\n\\n        <meta name=\"xmpTPg:NPages\" content=\"1\"/>\\n\\n        <meta name=\"pdf:hasXMP\" content=\"false\"/>\\n\\n        <meta name=\"access_permission:extract_content\" content=\"true\"/>\\n\\n        <meta name=\"access_permission:can_print\" content=\"true\"/>\\n\\n        <meta name=\"X-TIKA:Parsed-By\" content=\"org.apache.tika.parser.CompositeParser\"/>\\n\\n        <meta name=\"X-TIKA:Parsed-By\" content=\"org.apache.tika.parser.pdf.PDFParser\"/>\\n\\n        <meta name=\"access_permission:can_modify\" content=\"true\"/>\\n\\n        <meta name=\"pdf:docinfo:producer\" content=\"OpenPDF 1.3.26\"/>\\n\\n        <meta name=\"pdf:docinfo:created\" content=\"2024-11-12T19:23:50Z\"/>\\n\\n        <title>&#0;</title>\\n\\n    </head>\\n\\n    <body>\\n        <div class=\"page\">\\n            <p/>\\n\\n            <p>MUNICIPIO DE VITOR MEIRELES\\nCompras e Contratos\\nTermo Homologa&ccedil;&atilde;o\\n</p>\\n\\n            <p>Entidade - Processo Administrativo - Minuta - Licita&ccedil;&atilde;o: 94 Ano - Minuta - Licita&ccedil;&atilde;o: 2024 N&uacute;mero - \\nMinuta - Licita&ccedil;&atilde;o: 193 codigoCliente: 94 anoMinuta: 2024 cotaCredenciamento: 0\\n</p>\\n\\n            <p>P&aacute;g 1 / 1\\n</p>\\n\\n            <p>IPM Sistemas Ltda\\nAtende.Net - WCO v:2015.04\\n</p>\\n\\n            <p>Identificador: WCO561201-006-VSFFRDFUAJMIXG-6 - Emitido por: VALDELI JOSE SEBASTIAO 12/11/2024 16:23:50 -03:00\\n</p>\\n\\n            <p> TERMO DE HOMOLOGA&Ccedil;&Atilde;O Dispensa de Licita&ccedil;&atilde;o\\nPara Contrata&ccedil;&atilde;o de servi&ccedil;os\\n</p>\\n\\n            <p>128/2024\\nProcesso Administrativo: 193/2024\\n</p>\\n\\n            <p>Ao  Sr(a).  IVANOR  BOING  tendo  em  vista  a  decis&atilde;o  proferida  pela  comiss&atilde;o  de  abertura  e  julgamento  de  licita&ccedil;&otilde;es,  designada  pela  Decreto  n&ordm;\\n25/2024.\\n</p>\\n\\n            <p>Homologo\\n</p>\\n\\n            <p>Nesta  data  a  referida  decis&atilde;o  e  constante  da  ata  anexa,  considerando  vencedor  da  licita&ccedil;&atilde;o,  objeto  da  Dispensa  de  Licita&ccedil;&atilde;o  n&ordm;.  128/2024,  o(s)\\nparticipante(s):\\n</p>\\n\\n            <p>Produto Unidade Marca Qtde Valor Unit&aacute;rio Valor Total\\n1 - SERVICO DE LIMPEZA HORAS  4 R$75,00 R$300,00\\n</p>\\n\\n            <p>Fornecedor\\n</p>\\n\\n            <p>859745 - IZAURA COELHO ATAIDE 53393490982\\n</p>\\n\\n            <p>Total Fornecedor: R$300,00\\n</p>\\n\\n            <p>Vitor Meireles, 12 de novembro de 2024\\n</p>\\n\\n            <p>IVANOR BOING\\nPrefeito</p>\\n\\n            <p/>\\n\\n        </div>\\n\\n    </body>\\n</html>\\n',\n",
       "  'url': 'https://www.diariomunicipal.sc.gov.br/arquivosbd/atos/2024/11/1731439784_termo_de_homologao_dispensa_1282024_extrato.pdf'},\n",
       " '6611428': {'titulo': 'EDITAL 33/2024 - CONCORRENCIA 1/2024',\n",
       "  'data': '2024-11-12 16:06:40',\n",
       "  'cod_registro_info_sfinge': 'A6EA5D5DE25E4958826AB900C6B6CBA9AF26191B',\n",
       "  'municipio': 'Turvo',\n",
       "  'entidade': 'Câmara de Vereadores de Turvo',\n",
       "  'categoria': 'Licitações',\n",
       "  'link': 'https://www.diariomunicipal.sc.gov.br/?q=id:6611428',\n",
       "  'texto': '<html xmlns=\"http://www.w3.org/1999/xhtml\">\\n\\n    <head>\\n\\n        <meta name=\"pdf:PDFVersion\" content=\"1.5\"/>\\n\\n        <meta name=\"xmp:CreatorTool\" content=\"Microsoft&reg; Word 2013\"/>\\n\\n        <meta name=\"pdf:hasXFA\" content=\"false\"/>\\n\\n        <meta name=\"access_permission:modify_annotations\" content=\"true\"/>\\n\\n        <meta name=\"access_permission:can_print_degraded\" content=\"true\"/>\\n\\n        <meta name=\"dc:creator\" content=\"bruno teixeira guimaraes\"/>\\n\\n        <meta name=\"dcterms:created\" content=\"2024-11-12T19:04:36Z\"/>\\n\\n        <meta name=\"dcterms:modified\" content=\"2024-11-12T19:04:36Z\"/>\\n\\n        <meta name=\"dc:format\" content=\"application/pdf; version=1.5\"/>\\n\\n        <meta name=\"pdf:docinfo:creator_tool\" content=\"Microsoft&reg; Word 2013\"/>\\n\\n        <meta name=\"access_permission:fill_in_form\" content=\"true\"/>\\n\\n        <meta name=\"pdf:docinfo:modified\" content=\"2024-11-12T19:04:36Z\"/>\\n\\n        <meta name=\"pdf:hasCollection\" content=\"false\"/>\\n\\n        <meta name=\"pdf:encrypted\" content=\"false\"/>\\n\\n        <meta name=\"Content-Length\" content=\"7826\"/>\\n\\n        <meta name=\"pdf:hasMarkedContent\" content=\"true\"/>\\n\\n        <meta name=\"Content-Type\" content=\"application/pdf\"/>\\n\\n        <meta name=\"pdf:docinfo:creator\" content=\"bruno teixeira guimaraes\"/>\\n\\n        <meta name=\"dc:language\" content=\"pt-BR\"/>\\n\\n        <meta name=\"pdf:producer\" content=\"Microsoft&reg; Word 2013\"/>\\n\\n        <meta name=\"access_permission:extract_for_accessibility\" content=\"true\"/>\\n\\n        <meta name=\"access_permission:assemble_document\" content=\"true\"/>\\n\\n        <meta name=\"xmpTPg:NPages\" content=\"1\"/>\\n\\n        <meta name=\"pdf:hasXMP\" content=\"false\"/>\\n\\n        <meta name=\"access_permission:extract_content\" content=\"true\"/>\\n\\n        <meta name=\"access_permission:can_print\" content=\"true\"/>\\n\\n        <meta name=\"X-TIKA:Parsed-By\" content=\"org.apache.tika.parser.CompositeParser\"/>\\n\\n        <meta name=\"X-TIKA:Parsed-By\" content=\"org.apache.tika.parser.pdf.PDFParser\"/>\\n\\n        <meta name=\"access_permission:can_modify\" content=\"true\"/>\\n\\n        <meta name=\"pdf:docinfo:producer\" content=\"Microsoft&reg; Word 2013\"/>\\n\\n        <meta name=\"pdf:docinfo:created\" content=\"2024-11-12T19:04:36Z\"/>\\n\\n        <title>&#0;</title>\\n\\n    </head>\\n\\n    <body>\\n        <div class=\"part\">\\n            <p>ESTADO DE SANTA CATARINA</p>\\n\\n            <p>C&Acirc;MARA MUNICIPAL DE VEREADORES DE TURVO</p>\\n\\n            <p>EXTRATO AVISO CONCORR&Ecirc;NCIA</p>\\n\\n            <p>EDITAL N&ordm; 33/2024</p>\\n\\n            <p>CONCORR&Ecirc;NCIA N&ordm; 01/2024</p>\\n\\n            <p>CONCORR&Ecirc;NCIA ELETRONICA</p>\\n\\n            <p>Objeto: O objeto da presente licita&ccedil;&atilde;o &eacute; a sele&ccedil;&atilde;o da proposta apta a gerar o resultado mais vantajoso para a C&acirc;mara de Vereadores visando a CONSTRU&Ccedil;&Atilde;O DO ESTACIONAMENTO DA C&Acirc;MARA MUNICIPAL DE VEREADORES DE TURVO/SC E ADEQUA&Ccedil;&Otilde;ES NECESS&Aacute;RIAS PARA ACESSIBILIDADE, conforme especifica&ccedil;&otilde;es contidas no projeto, cronograma, detalhamentos, planilhas or&ccedil;ament&aacute;rias, memorial descritivo e exig&ecirc;ncias estabelecidas neste Edital e seus anexos.</p>\\n\\n            <p>Base Legal: Lei Federal n&ordm; 14.133, de 1&ordm; de abril 2021, da Lei Complementar Federal n&ordm; 123, de 2006, e Resolu&ccedil;&atilde;o Municipal n&ordm; 0002/2024 de 07 de mar&ccedil;o de 2024 e demais legisla&ccedil;&otilde;es aplic&aacute;veis a mat&eacute;ria, e das exig&ecirc;ncias estabelecidas neste edital.</p>\\n\\n            <p>Data da Sess&atilde;o: Data da sess&atilde;o: 28/11/2024. Hor&aacute;rio: 09h00.</p>\\n\\n            <p>Portal:\\n                <a href=\"http://www.portaldecompraspublicas.com.br/\">www.portaldecompraspublicas.com.br</a>\\n            </p>\\n\\n            <p>Maiores informa&ccedil;&otilde;es no Setor de Licita&ccedil;&otilde;es na C&acirc;mara Municipal de Vereadores de Turvo/SC, sito &agrave; Avenida Municial, n&ordm; 2547, Cidade Alta, Turvo/SC, no hor&aacute;rio de atendimento das 8h00min &agrave;s 11h30min e das 13h30min &agrave;s 17h00min de segunda &agrave; sexta-feira, pelo tel. (48) 3525-0491 ou atrav&eacute;s do e-mail: camturvo@gmail.com</p>\\n\\n            <p>Turvo/SC, 12 de novembrio de 2024.</p>\\n\\n            <p>Luiz Lucinei Vitto</p>\\n\\n            <p>Presidente da C&acirc;mara</p>\\n\\n            <p/>\\n\\n        </div>\\n\\n        <div class=\"page\">\\n            <p/>\\n\\n        </div>\\n\\n    </body>\\n</html>\\n',\n",
       "  'url': 'https://www.diariomunicipal.sc.gov.br/arquivosbd/atos/2024/11/1731438383_aviso_licitao_cc33_2024_extrato.pdf'},\n",
       " '6611504': {'titulo': 'EXTRATO DE PUBLICAÇÃO DA DISPENSA Nº 79/2024',\n",
       "  'data': '2024-11-12 16:09:58',\n",
       "  'cod_registro_info_sfinge': None,\n",
       "  'municipio': 'Planalto Alegre',\n",
       "  'entidade': 'Prefeitura municipal de Planalto Alegre',\n",
       "  'categoria': 'Licitações',\n",
       "  'link': 'https://www.diariomunicipal.sc.gov.br/?q=id:6611504',\n",
       "  'texto': '<html xmlns=\"http://www.w3.org/1999/xhtml\">\\n\\n    <head>\\n\\n        <meta name=\"pdf:PDFVersion\" content=\"1.7\"/>\\n\\n        <meta name=\"pdf:docinfo:title\" content=\"Microsoft Word - 3 EXTRATO DE PUBLICA&Ccedil;&Atilde;O DISPENSA\"/>\\n\\n        <meta name=\"pdf:hasXFA\" content=\"false\"/>\\n\\n        <meta name=\"access_permission:modify_annotations\" content=\"true\"/>\\n\\n        <meta name=\"access_permission:can_print_degraded\" content=\"true\"/>\\n\\n        <meta name=\"dcterms:created\" content=\"2024-11-12T19:06:53Z\"/>\\n\\n        <meta name=\"dcterms:modified\" content=\"2024-11-12T19:07:39Z\"/>\\n\\n        <meta name=\"dc:format\" content=\"application/pdf; version=1.7\"/>\\n\\n        <meta name=\"xmpMM:DocumentID\" content=\"uuid:216c5dd6-54c4-493a-8c02-4cd31d18d725\"/>\\n\\n        <meta name=\"access_permission:fill_in_form\" content=\"true\"/>\\n\\n        <meta name=\"pdf:docinfo:modified\" content=\"2024-11-12T19:07:39Z\"/>\\n\\n        <meta name=\"pdf:hasCollection\" content=\"false\"/>\\n\\n        <meta name=\"pdf:encrypted\" content=\"false\"/>\\n\\n        <meta name=\"dc:title\" content=\"Microsoft Word - 3 EXTRATO DE PUBLICA&Ccedil;&Atilde;O DISPENSA\"/>\\n\\n        <meta name=\"xmp:CreateDate\" content=\"2024-11-12T16:06:53Z\"/>\\n\\n        <meta name=\"Content-Length\" content=\"549530\"/>\\n\\n        <meta name=\"pdf:hasMarkedContent\" content=\"false\"/>\\n\\n        <meta name=\"Content-Type\" content=\"application/pdf\"/>\\n\\n        <meta name=\"xmp:ModifyDate\" content=\"2024-11-12T16:07:39Z\"/>\\n\\n        <meta name=\"xmp:MetadataDate\" content=\"2024-11-12T16:07:39Z\"/>\\n\\n        <meta name=\"pdf:producer\" content=\"Microsoft: Print To PDF\"/>\\n\\n        <meta name=\"access_permission:extract_for_accessibility\" content=\"true\"/>\\n\\n        <meta name=\"access_permission:assemble_document\" content=\"true\"/>\\n\\n        <meta name=\"xmpTPg:NPages\" content=\"1\"/>\\n\\n        <meta name=\"pdf:hasAcroFormFields\" content=\"true\"/>\\n\\n        <meta name=\"pdf:hasXMP\" content=\"true\"/>\\n\\n        <meta name=\"signature:filter\" content=\"Adobe.PPKLite\"/>\\n\\n        <meta name=\"access_permission:extract_content\" content=\"true\"/>\\n\\n        <meta name=\"signature:name\" content=\"SADI DALLACORTTE:01535603984\"/>\\n\\n        <meta name=\"signature:date\" content=\"2024-11-12T19:07:39Z\"/>\\n\\n        <meta name=\"access_permission:can_print\" content=\"true\"/>\\n\\n        <meta name=\"X-TIKA:Parsed-By\" content=\"org.apache.tika.parser.CompositeParser\"/>\\n\\n        <meta name=\"X-TIKA:Parsed-By\" content=\"org.apache.tika.parser.pdf.PDFParser\"/>\\n\\n        <meta name=\"access_permission:can_modify\" content=\"true\"/>\\n\\n        <meta name=\"pdf:docinfo:producer\" content=\"Microsoft: Print To PDF\"/>\\n\\n        <meta name=\"pdf:docinfo:created\" content=\"2024-11-12T19:06:53Z\"/>\\n\\n        <meta name=\"hasSignature\" content=\"true\"/>\\n\\n        <title>Microsoft Word - 3 EXTRATO DE PUBLICA&Ccedil;&Atilde;O DISPENSA</title>\\n\\n    </head>\\n\\n    <body>\\n        <div class=\"page\">\\n            <p/>\\n\\n            <p> \\n \\n \\n \\n \\n \\n \\n \\n</p>\\n\\n            <p> \\nAv. Santa Catarina, 390 &ndash; centro &ndash; 89882-000  - PLANALTO ALEGRE &ndash; SC \\n</p>\\n\\n            <p>Fone/Fax: 0xx49-3350066  \\n</p>\\n\\n            <p> \\n \\n</p>\\n\\n            <p>Estado de Santa Catarina \\n \\nMUNICIPIO DE PLANALTO ALEGRE \\n \\n</p>\\n\\n            <p>ESTADO DE SANTA CATARINA \\nMUNIC&Iacute;PIO DE PLANALTO ALEGRE \\n</p>\\n\\n            <p>EXTRATO DE DISPENSA PRESENCIAL \\n</p>\\n\\n            <p> \\nProcesso Adm. N&ordm; 79/2024 \\nEdital: DISPENSA PRESENCIAL N&ordm; 79/2024 \\n  \\nObjeto: CONTRATA&Ccedil;&Atilde;O DE SERVI&Ccedil;OS E MATERIAIS PARA \\nSHOW DE FOGOS DE ARTIF&Iacute;CIO A SER REALIZADO NA \\nTRADICIONAL NOITE DO FIL&Oacute; &ndash; DIA 29/11/2024, COM O \\nOBJETIVO DE DAR ANDAMENTO &Agrave;S FESTIVIDADES \\nMUNICIPAIS, CONFORME DESCRI&Ccedil;&Atilde;O T&Eacute;CNICA DETALHADA E \\nDEMAIS CONDI&Ccedil;&Otilde;ES CONSTANTES DO ANEXO I &ndash; TERMO DE \\nREFER&Ecirc;NCIA. \\n \\n \\nENVIO DE PROPOSTAS ADICIONAIS \\n \\n</p>\\n\\n            <p>I -  Prazo: 13/11/2024 &agrave; 18/11/2024 \\nII -  Local de envio: E-mail institucional do setor de licita&ccedil;&otilde;es \\n&lt;licitacao@planaltoalegre.sc.gov.br&gt;. \\n</p>\\n\\n            <p> \\n  \\nO Edital e esclarecimentos poder&atilde;o ser obtidos no seguinte endere&ccedil;o \\ne hor&aacute;rios: Av. Santa Catarina, 390, Centro, Planalto Alegre, nos dias \\n&uacute;teis, das Segundas &agrave; Sextas, das 07:30 &agrave;s 11:30 e das 13:10 &agrave;s \\n17:10 horas, ou pelo fone 3335-0066 e no site: \\nwww.planaltoalegre.sc.gov.br.  \\n \\n \\n</p>\\n\\n            <p>Planalto Alegre, 12 de novembro de 2024. \\n \\n \\n \\n</p>\\n\\n            <p>SADI DALLACORTTE \\nPrefeito \\n</p>\\n\\n            <p> </p>\\n\\n            <p/>\\n\\n        </div>\\n\\n    </body>\\n</html>\\n',\n",
       "  'url': 'https://www.diariomunicipal.sc.gov.br/arquivosbd/atos/2024/11/1731438591_3_extrato_de_publicao_dispensa_extrato.pdf'},\n",
       " '6611791': {'titulo': 'AVISO DE LICITAÇÃO - PREGÃO Nº 06/2024',\n",
       "  'data': '2024-11-12 17:02:16',\n",
       "  'cod_registro_info_sfinge': 'D64D5ED6B18674E4FF36C1437AC8EDD2F752D6B3',\n",
       "  'municipio': 'Balneário Arroio do Silva',\n",
       "  'entidade': 'Prefeitura municipal de Balneário Arroio do Silva',\n",
       "  'categoria': 'Licitações',\n",
       "  'link': 'https://www.diariomunicipal.sc.gov.br/?q=id:6611791',\n",
       "  'texto': '<html xmlns=\"http://www.w3.org/1999/xhtml\">\\n\\n    <head>\\n\\n        <meta name=\"pdf:PDFVersion\" content=\"1.7\"/>\\n\\n        <meta name=\"xmp:CreatorTool\" content=\"Microsoft&reg; Word 2019\"/>\\n\\n        <meta name=\"pdf:hasXFA\" content=\"false\"/>\\n\\n        <meta name=\"access_permission:modify_annotations\" content=\"true\"/>\\n\\n        <meta name=\"access_permission:can_print_degraded\" content=\"true\"/>\\n\\n        <meta name=\"dc:creator\" content=\"Usuario\"/>\\n\\n        <meta name=\"dcterms:created\" content=\"2024-11-12T19:54:55Z\"/>\\n\\n        <meta name=\"dcterms:modified\" content=\"2024-11-12T19:54:55Z\"/>\\n\\n        <meta name=\"dc:format\" content=\"application/pdf; version=1.7\"/>\\n\\n        <meta name=\"xmpMM:DocumentID\" content=\"uuid:05BC3EEE-CB8C-4619-91C3-8DB15C516166\"/>\\n\\n        <meta name=\"pdf:docinfo:creator_tool\" content=\"Microsoft&reg; Word 2019\"/>\\n\\n        <meta name=\"access_permission:fill_in_form\" content=\"true\"/>\\n\\n        <meta name=\"pdf:docinfo:modified\" content=\"2024-11-12T19:54:55Z\"/>\\n\\n        <meta name=\"pdf:hasCollection\" content=\"false\"/>\\n\\n        <meta name=\"pdf:encrypted\" content=\"false\"/>\\n\\n        <meta name=\"xmp:CreateDate\" content=\"2024-11-12T16:54:55Z\"/>\\n\\n        <meta name=\"Content-Length\" content=\"13272\"/>\\n\\n        <meta name=\"pdf:hasMarkedContent\" content=\"true\"/>\\n\\n        <meta name=\"Content-Type\" content=\"application/pdf\"/>\\n\\n        <meta name=\"xmp:ModifyDate\" content=\"2024-11-12T16:54:55Z\"/>\\n\\n        <meta name=\"pdf:docinfo:creator\" content=\"Usuario\"/>\\n\\n        <meta name=\"dc:language\" content=\"pt\"/>\\n\\n        <meta name=\"pdf:producer\" content=\"Microsoft&reg; Word 2019\"/>\\n\\n        <meta name=\"access_permission:extract_for_accessibility\" content=\"true\"/>\\n\\n        <meta name=\"access_permission:assemble_document\" content=\"true\"/>\\n\\n        <meta name=\"xmpTPg:NPages\" content=\"1\"/>\\n\\n        <meta name=\"pdf:hasXMP\" content=\"true\"/>\\n\\n        <meta name=\"access_permission:extract_content\" content=\"true\"/>\\n\\n        <meta name=\"access_permission:can_print\" content=\"true\"/>\\n\\n        <meta name=\"X-TIKA:Parsed-By\" content=\"org.apache.tika.parser.CompositeParser\"/>\\n\\n        <meta name=\"X-TIKA:Parsed-By\" content=\"org.apache.tika.parser.pdf.PDFParser\"/>\\n\\n        <meta name=\"access_permission:can_modify\" content=\"true\"/>\\n\\n        <meta name=\"pdf:docinfo:producer\" content=\"Microsoft&reg; Word 2019\"/>\\n\\n        <meta name=\"pdf:docinfo:created\" content=\"2024-11-12T19:54:55Z\"/>\\n\\n        <title>&#0;</title>\\n\\n    </head>\\n\\n    <body>\\n        <body>\\n            <p> </p>\\n\\n            <p>ESTADO DE SANTA CATARINA </p>\\n\\n            <p>MUNIC&Iacute;PIO DE BALNE&Aacute;RIO ARROIO DO SILVA </p>\\n\\n            <p> </p>\\n\\n            <p>AVISO DE LICITA&Ccedil;&Atilde;O </p>\\n\\n            <p>PROCESSO LICITAT&Oacute;RIO N&ordm; 080/2024 </p>\\n\\n            <p>EDITAL DO PREG&Atilde;O PRESENCIAL N&ordm; 06/2024 </p>\\n\\n            <p> </p>\\n\\n            <p>OBJETO: Sele&ccedil;&atilde;o e Contrata&ccedil;&atilde;o de empresa especializada em Fogos de Artif&iacute;cio e Show Pirot&eacute;cnico com montagem, desmontagem, para realiza&ccedil;&atilde;o de show no R&eacute;veillon 2025, no Munic&iacute;pio de Balne&aacute;rio Arroio do Silva, conforme especifica&ccedil;&otilde;es e quantitativos descritos no Anexo I deste Edital. </p>\\n\\n            <p> </p>\\n\\n            <p>TIPO DE JULGAMENTO: Menor Pre&ccedil;o por Lote. </p>\\n\\n            <p> </p>\\n\\n            <p>REGIME LEGAL: Mediante as especifica&ccedil;&otilde;es e condi&ccedil;&otilde;es previstas no Edital, sob a reg&ecirc;ncia da Lei 14.133/21 e suas altera&ccedil;&otilde;es, Lei Complementar n&ordm; 123/2006 e Decreto Municipal n&ordm; 055/2023. </p>\\n\\n            <p>  </p>\\n\\n            <p>ABERTURA DOS ENVELOPES: Iniciar&aacute; &agrave;s 14h00min, do dia 28 de novembro de 2024, na Sala de Licita&ccedil;&otilde;es, no Centro Administrativo Prefeito Jos&eacute; &Eacute;lio Borges, situado Avenida Florian&oacute;polis, esquina com a Avenida Cantu&aacute;rio dos Santos Vieira, n&ordm; 1000, Centro, na Cidade de Balne&aacute;rio Arroio do Silva/SC. </p>\\n\\n            <p>  </p>\\n\\n            <p>EDITAL E ARQUIVOS: Pessoalmente, pelo telefone: (48) 3526-1445 ou E-mail: \\n                <a href=\"mailto:administracao@arroiodosilva.sc.gov.br\">administracao@arroiodosilva.sc.gov.br</a> ou \\n                <a href=\"https://balnearioarroiodosilva.atende.net/?pg=transparencia#!/\">https://balnearioarroiodosilva.atende.net/?pg=transparencia#!/</a>. \\n            </p>\\n\\n            <p> </p>\\n\\n            <p>Balne&aacute;rio Arroio do Silva/SC, 12 de novembro de 2024. </p>\\n\\n            <p> </p>\\n\\n            <p> </p>\\n\\n            <p>EVANDRO SCAINI </p>\\n\\n            <p>Prefeito Municipal  </p>\\n\\n            <p> </p>\\n\\n            <p> </p>\\n\\n            <p> </p>\\n\\n        </body>\\n        <div class=\"page\">\\n            <p/>\\n\\n        </div>\\n\\n    </body>\\n</html>\\n',\n",
       "  'url': 'https://www.diariomunicipal.sc.gov.br/arquivosbd/atos/2024/11/1731441730_processo_090__prego_show_pirotcnico_extrato.pdf'},\n",
       " '6611464': {'titulo': 'AVISO DE LICITAÇÃO 181/2024 - ADM',\n",
       "  'data': '2024-11-12 16:01:29',\n",
       "  'cod_registro_info_sfinge': 'A61934B8CBABD71FBCC2DA5AEBDD324C6F9B7072',\n",
       "  'municipio': 'São Carlos',\n",
       "  'entidade': 'Prefeitura municipal de São Carlos',\n",
       "  'categoria': 'Licitações',\n",
       "  'link': 'https://www.diariomunicipal.sc.gov.br/?q=id:6611464',\n",
       "  'texto': '<html xmlns=\"http://www.w3.org/1999/xhtml\">\\n\\n    <head>\\n\\n        <meta name=\"cp:revision\" content=\"2\"/>\\n\\n        <meta name=\"extended-properties:AppVersion\" content=\"15.0000\"/>\\n\\n        <meta name=\"meta:paragraph-count\" content=\"2\"/>\\n\\n        <meta name=\"meta:word-count\" content=\"180\"/>\\n\\n        <meta name=\"extended-properties:Application\" content=\"Microsoft Office Word\"/>\\n\\n        <meta name=\"meta:last-author\" content=\"11013\"/>\\n\\n        <meta name=\"dc:creator\" content=\"giselia\"/>\\n\\n        <meta name=\"extended-properties:Company\" content=\"\"/>\\n\\n        <meta name=\"meta:print-date\" content=\"2016-01-15T13:53:00Z\"/>\\n\\n        <meta name=\"xmpTPg:NPages\" content=\"1\"/>\\n\\n        <meta name=\"dcterms:created\" content=\"2024-11-12T18:37:00Z\"/>\\n\\n        <meta name=\"meta:line-count\" content=\"8\"/>\\n\\n        <meta name=\"dcterms:modified\" content=\"2024-11-12T18:37:00Z\"/>\\n\\n        <meta name=\"meta:character-count\" content=\"972\"/>\\n\\n        <meta name=\"extended-properties:Template\" content=\"Normal\"/>\\n\\n        <meta name=\"meta:character-count-with-spaces\" content=\"1150\"/>\\n\\n        <meta name=\"X-TIKA:Parsed-By\" content=\"org.apache.tika.parser.CompositeParser\"/>\\n\\n        <meta name=\"X-TIKA:Parsed-By\" content=\"org.apache.tika.parser.DefaultParser\"/>\\n\\n        <meta name=\"X-TIKA:Parsed-By\" content=\"org.apache.tika.parser.microsoft.ooxml.OOXMLParser\"/>\\n\\n        <meta name=\"dc:title\" content=\"Estado de Santa Catarina\"/>\\n\\n        <meta name=\"extended-properties:DocSecurityString\" content=\"None\"/>\\n\\n        <meta name=\"Content-Length\" content=\"18438\"/>\\n\\n        <meta name=\"meta:page-count\" content=\"1\"/>\\n\\n        <meta name=\"Content-Type\" content=\"application/vnd.openxmlformats-officedocument.wordprocessingml.document\"/>\\n\\n        <meta name=\"dc:publisher\" content=\"\"/>\\n\\n        <title>Estado de Santa Catarina</title>\\n\\n    </head>\\n\\n    <body>\\n        <table>\\n            <tbody>\\n                <tr>\\t\\n                    <td>\\n                        <p> Estado de Santa Catarina</p>\\n\\n                        <p>\\n                            <b>MUNICIPIO DE S&Atilde;O CARLOS</b>\\n                        </p>\\n\\n                    </td>\\n                </tr>\\n\\n                <tr>\\t\\n                    <td>\\n                        <p/>\\n\\n                        <p>\\n                            <b>EXTRATO AVISO DE LICITA&Ccedil;&Atilde;O </b>\\n                        </p>\\n\\n                        <p/>\\n\\n                        <p>\\n                            <u>Processo Administrativo n&ordm;</u> 181/2024 - ADM\\n                        </p>\\n\\n                        <p>\\n                            <u>Concorr&ecirc;ncia Eletr&ocirc;nica n&ordm;</u> 010/2024 - ADM\\n                        </p>\\n\\n                        <p>\\n                            <u>Tipo:</u> Menor Pre&ccedil;o Global\\n                        </p>\\n\\n                        <p>\\n                            <u>Legisla&ccedil;&atilde;o</u>:  Lei n&ordm; 14.133/2021\\n                        </p>\\n\\n                        <p/>\\n\\n                        <p>\\n                            <u>Objeto:</u> \\n                            <b>CONTRATA&Ccedil;&Atilde;O DE EMPRESA ESPECIALIZADA PARA EXECU&Ccedil;&Atilde;O DE OBRA DE PAVIMENTA&Ccedil;&Atilde;O COM PEDRAS IRREGULARES EM TRECHO DA SCAR 201, NA LINHA BAIXO AGUINAS, INTERIOR DO MUNIC&Iacute;PIO DE S&Atilde;O CARLOS-SC.</b>\\n                        </p>\\n\\n                        <p/>\\n\\n                        <p>Data limite para cadastro de propostas: At&eacute; &agrave;s 08h00mim do dia 29 de novembro de 2024 (hor&aacute;rio de Bras&iacute;lia/DF). Abertura: dia 29 de novembro de 2024, &agrave;s 08h01min (hor&aacute;rio de Bras&iacute;lia/DF), ambos no endere&ccedil;o eletr&ocirc;nico: \\n                            <a href=\"file:///C:/Users/Computador/Desktop/PUBLICA&Ccedil;&Otilde;ES/2021/www.portaldecompraspublicas.com.br\">www.portaldecompraspublicas.com.br</a>. \\n                        </p>\\n\\n                        <p/>\\n\\n                        <p>O Edital e esclarecimentos poder&atilde;o ser obtidos no seguinte endere&ccedil;o e hor&aacute;rios: Rua Dem&eacute;trio L&oacute;renz, 747, nos dias &uacute;teis, de Segunda &agrave; Sexta, das 07:30 as 11:30 e das 13:30 &agrave;s 17:30 horas, ou pelo fone (49) 3325-3030.  \\n                            <a href=\"https://saocarlos.atende.net\">https://saocarlos.atende.net</a> \\n                        </p>\\n\\n                        <p/>\\n\\n                        <p>\\n                            <a name=\"_GoBack\"/>SAO CARLOS/SC, 11 DE NOVEMBRO DE 2024. \\n                        </p>\\n\\n                        <p/>\\n\\n                        <p/>\\n\\n                        <p/>\\n\\n                        <p>\\n                            <b>RUDI MIGUEL SANDER</b>\\n                        </p>\\n\\n                        <p>\\n                            <b>Prefeito </b>\\n                        </p>\\n\\n                    </td>\\n                </tr>\\n\\n            </tbody>\\n        </table>\\n\\n        <p/>\\n\\n    </body>\\n</html>\\n',\n",
       "  'url': 'https://www.diariomunicipal.sc.gov.br/arquivosbd/atos/2024/11/1731438069_aviso_de_licitao_1812024__adm_extrato.pdf'},\n",
       " '6611673': {'titulo': 'PUBLICAÇÃO DA HOMOLOGAÇÃO DA DISPENSA DE LICITAÇÃO Nº FMS 76/2024',\n",
       "  'data': '2024-11-12 16:45:52',\n",
       "  'cod_registro_info_sfinge': None,\n",
       "  'municipio': 'Canoinhas',\n",
       "  'entidade': 'Prefeitura municipal de Canoinhas',\n",
       "  'categoria': 'Licitações',\n",
       "  'link': 'https://www.diariomunicipal.sc.gov.br/?q=id:6611673',\n",
       "  'texto': '<html xmlns=\"http://www.w3.org/1999/xhtml\">\\n\\n    <head>\\n\\n        <meta name=\"pdf:PDFVersion\" content=\"1.5\"/>\\n\\n        <meta name=\"xmp:CreatorTool\" content=\"Microsoft&reg; Word 2010\"/>\\n\\n        <meta name=\"pdf:hasXFA\" content=\"false\"/>\\n\\n        <meta name=\"access_permission:modify_annotations\" content=\"true\"/>\\n\\n        <meta name=\"access_permission:can_print_degraded\" content=\"true\"/>\\n\\n        <meta name=\"dc:creator\" content=\"Marco Aurelio de Brum\"/>\\n\\n        <meta name=\"dcterms:created\" content=\"2024-11-12T18:57:24Z\"/>\\n\\n        <meta name=\"dcterms:modified\" content=\"2024-11-12T19:36:50Z\"/>\\n\\n        <meta name=\"dc:format\" content=\"application/pdf; version=1.5\"/>\\n\\n        <meta name=\"pdf:docinfo:creator_tool\" content=\"Microsoft&reg; Word 2010\"/>\\n\\n        <meta name=\"access_permission:fill_in_form\" content=\"true\"/>\\n\\n        <meta name=\"pdf:docinfo:modified\" content=\"2024-11-12T19:36:50Z\"/>\\n\\n        <meta name=\"pdf:hasCollection\" content=\"false\"/>\\n\\n        <meta name=\"pdf:encrypted\" content=\"false\"/>\\n\\n        <meta name=\"Content-Length\" content=\"69048\"/>\\n\\n        <meta name=\"pdf:hasMarkedContent\" content=\"false\"/>\\n\\n        <meta name=\"Content-Type\" content=\"application/pdf\"/>\\n\\n        <meta name=\"pdf:docinfo:creator\" content=\"Marco Aurelio de Brum\"/>\\n\\n        <meta name=\"dc:language\" content=\"pt-BR\"/>\\n\\n        <meta name=\"pdf:producer\" content=\"Bry Signer PDF 2.3.1\"/>\\n\\n        <meta name=\"access_permission:extract_for_accessibility\" content=\"true\"/>\\n\\n        <meta name=\"access_permission:assemble_document\" content=\"true\"/>\\n\\n        <meta name=\"xmpTPg:NPages\" content=\"1\"/>\\n\\n        <meta name=\"pdf:hasAcroFormFields\" content=\"true\"/>\\n\\n        <meta name=\"pdf:hasXMP\" content=\"false\"/>\\n\\n        <meta name=\"signature:filter\" content=\"Adobe.PPKLite\"/>\\n\\n        <meta name=\"access_permission:extract_content\" content=\"true\"/>\\n\\n        <meta name=\"signature:name\" content=\"FRANCIELI DA COSTA COLLA:963.627.900-49 1\"/>\\n\\n        <meta name=\"signature:date\" content=\"2024-11-12T19:36:50Z\"/>\\n\\n        <meta name=\"access_permission:can_print\" content=\"true\"/>\\n\\n        <meta name=\"X-TIKA:Parsed-By\" content=\"org.apache.tika.parser.CompositeParser\"/>\\n\\n        <meta name=\"X-TIKA:Parsed-By\" content=\"org.apache.tika.parser.pdf.PDFParser\"/>\\n\\n        <meta name=\"access_permission:can_modify\" content=\"true\"/>\\n\\n        <meta name=\"pdf:docinfo:producer\" content=\"Bry Signer PDF 2.3.1\"/>\\n\\n        <meta name=\"pdf:docinfo:created\" content=\"2024-11-12T18:57:24Z\"/>\\n\\n        <meta name=\"hasSignature\" content=\"true\"/>\\n\\n        <title>&#0;</title>\\n\\n    </head>\\n\\n    <body>\\n        <div class=\"page\">\\n            <p/>\\n\\n            <p> \\n</p>\\n\\n            <p> \\n</p>\\n\\n            <p>FUNDO MUNICIPAL DE SAUDE DE CANOINHAS \\nCompras e Contratos \\n</p>\\n\\n            <p>Termo Homologa&ccedil;&atilde;o - Ratifica&ccedil;&atilde;o de Dispensa \\nEntidade - Processo Administrativo - Minuta - Licita&ccedil;&atilde;o: 13657 Ano - Minuta - Licita&ccedil;&atilde;o: 2024 N&uacute;mero - \\n</p>\\n\\n            <p>Minuta - Licita&ccedil;&atilde;o: 118 codigoCliente: 13657 anoMinuta: 2024 cotaCredenciamento: N&atilde;o \\n \\n</p>\\n\\n            <p> \\nP&aacute;g 1 / 1 \\n</p>\\n\\n            <p> \\n</p>\\n\\n            <p> \\n</p>\\n\\n            <p> \\nIPM Sistemas Ltda \\nAtende.Net - WCO v:2015.04 \\n</p>\\n\\n            <p>Identificador: WCO561201-31020-FVIJHTDRPJWZ-3 - Emitido por: MARCO AURELIO DE BRUM 12/11/2024 15:56:20 -03:00 \\n \\n</p>\\n\\n            <p> \\n</p>\\n\\n            <p> \\n</p>\\n\\n            <p> TERMO DE RATIFICA&Ccedil;&Atilde;O DE DISPENSA \\n \\n</p>\\n\\n            <p>Processo Administrativo: 113/2024 \\n</p>\\n\\n            <p>Dispensa Presencial: 76/2024 \\n</p>\\n\\n            <p>Tipo Objeto: Aquisi&ccedil;&atilde;o de bens \\n  \\n</p>\\n\\n            <p> \\n</p>\\n\\n            <p>A Sra. FRANCIELI DA COSTA COLLA tendo em vista a decis&atilde;o proferida pela comiss&atilde;o de abertura e \\njulgamento de licita&ccedil;&otilde;es, designada pela Portaria n&ordm; 850/2024. \\n  \\n</p>\\n\\n            <p>RATIFICO  \\n</p>\\n\\n            <p>Nesta data a referida decis&atilde;o e constante da ata anexa, considerando vencedor da licita&ccedil;&atilde;o, cujo objeto trata \\nda: AQUISI&Ccedil;&Atilde;O DO MEDICAMENTO SULFATO FERROSO 40 MG; licita&ccedil;&atilde;o Dispensa Presencial n&ordm;. \\n76/2024, o(s) participante(s): \\n \\n  \\n</p>\\n\\n            <p> \\n362049 - ALTERMED MATERIAL M&Eacute;DICO HOSPITALAR LTDA. \\n \\n</p>\\n\\n            <p> \\nCNPJ: 00.802.002/0001-02 \\n \\n</p>\\n\\n            <p>Item Produto Unid. Marca Qtde Valor Unit&aacute;rio Valor Total \\n</p>\\n\\n            <p>1 SULFATO FERROSO, 40 MG DE \\nFERRO II \\n</p>\\n\\n            <p>DR&Aacute;G  24.00 R$0,0349 R$837,60 \\n</p>\\n\\n            <p>  \\nTotal do Fornecedor: R$837,60 \\n</p>\\n\\n            <p>  \\n</p>\\n\\n            <p> \\n</p>\\n\\n            <p>Canoinhas, 12 de novembro de 2024. \\n  \\n</p>\\n\\n            <p> \\n</p>\\n\\n            <p>FRANCIELI DA COSTA COLLA \\n \\n</p>\\n\\n            <p> \\n</p>\\n\\n            <p>FUNDO MUNICIPAL DE SA&Uacute;DE \\n  \\n</p>\\n\\n            <p> \\n  \\n</p>\\n\\n            <p> </p>\\n\\n            <p/>\\n\\n        </div>\\n\\n    </body>\\n</html>\\n',\n",
       "  'url': 'https://www.diariomunicipal.sc.gov.br/arquivosbd/atos/2024/11/1731440746_termo_de_homologao_assinado_extrato.pdf'},\n",
       " '6611563': {'titulo': 'AVISO DE LICITAÇÃO 182/2024 - ADM',\n",
       "  'data': '2024-11-12 16:26:23',\n",
       "  'cod_registro_info_sfinge': 'F028B91273FBF0B5C0272D74161F6A429D9BD062',\n",
       "  'municipio': 'São Carlos',\n",
       "  'entidade': 'Prefeitura municipal de São Carlos',\n",
       "  'categoria': 'Licitações',\n",
       "  'link': 'https://www.diariomunicipal.sc.gov.br/?q=id:6611563',\n",
       "  'texto': '<html xmlns=\"http://www.w3.org/1999/xhtml\">\\n\\n    <head>\\n\\n        <meta name=\"cp:revision\" content=\"2\"/>\\n\\n        <meta name=\"extended-properties:AppVersion\" content=\"15.0000\"/>\\n\\n        <meta name=\"meta:paragraph-count\" content=\"2\"/>\\n\\n        <meta name=\"meta:word-count\" content=\"186\"/>\\n\\n        <meta name=\"extended-properties:Application\" content=\"Microsoft Office Word\"/>\\n\\n        <meta name=\"meta:last-author\" content=\"11013\"/>\\n\\n        <meta name=\"dc:creator\" content=\"giselia\"/>\\n\\n        <meta name=\"extended-properties:Company\" content=\"\"/>\\n\\n        <meta name=\"meta:print-date\" content=\"2016-01-15T13:53:00Z\"/>\\n\\n        <meta name=\"xmpTPg:NPages\" content=\"1\"/>\\n\\n        <meta name=\"dcterms:created\" content=\"2024-11-12T18:39:00Z\"/>\\n\\n        <meta name=\"meta:line-count\" content=\"8\"/>\\n\\n        <meta name=\"dcterms:modified\" content=\"2024-11-12T18:39:00Z\"/>\\n\\n        <meta name=\"meta:character-count\" content=\"1007\"/>\\n\\n        <meta name=\"extended-properties:Template\" content=\"Normal\"/>\\n\\n        <meta name=\"meta:character-count-with-spaces\" content=\"1191\"/>\\n\\n        <meta name=\"X-TIKA:Parsed-By\" content=\"org.apache.tika.parser.CompositeParser\"/>\\n\\n        <meta name=\"X-TIKA:Parsed-By\" content=\"org.apache.tika.parser.DefaultParser\"/>\\n\\n        <meta name=\"X-TIKA:Parsed-By\" content=\"org.apache.tika.parser.microsoft.ooxml.OOXMLParser\"/>\\n\\n        <meta name=\"dc:title\" content=\"Estado de Santa Catarina\"/>\\n\\n        <meta name=\"extended-properties:DocSecurityString\" content=\"None\"/>\\n\\n        <meta name=\"extended-properties:TotalTime\" content=\"1\"/>\\n\\n        <meta name=\"Content-Length\" content=\"18466\"/>\\n\\n        <meta name=\"meta:page-count\" content=\"1\"/>\\n\\n        <meta name=\"Content-Type\" content=\"application/vnd.openxmlformats-officedocument.wordprocessingml.document\"/>\\n\\n        <meta name=\"dc:publisher\" content=\"\"/>\\n\\n        <title>Estado de Santa Catarina</title>\\n\\n    </head>\\n\\n    <body>\\n        <table>\\n            <tbody>\\n                <tr>\\t\\n                    <td>\\n                        <p> Estado de Santa Catarina</p>\\n\\n                        <p>\\n                            <b>MUNICIPIO DE S&Atilde;O CARLOS</b>\\n                        </p>\\n\\n                    </td>\\n                </tr>\\n\\n                <tr>\\t\\n                    <td>\\n                        <p/>\\n\\n                        <p>\\n                            <b>EXTRATO AVISO DE LICITA&Ccedil;&Atilde;O </b>\\n                        </p>\\n\\n                        <p/>\\n\\n                        <p>\\n                            <u>Processo Administrativo n&ordm;</u> 182/2024 - ADM\\n                        </p>\\n\\n                        <p>\\n                            <u>Concorr&ecirc;ncia Eletr&ocirc;nica n&ordm;</u> 011/2024 - ADM\\n                        </p>\\n\\n                        <p>\\n                            <u>Tipo:</u> Menor Pre&ccedil;o Global\\n                        </p>\\n\\n                        <p>\\n                            <u>Legisla&ccedil;&atilde;o</u>:  Lei n&ordm; 14.133/2021\\n                        </p>\\n\\n                        <p/>\\n\\n                        <p>\\n                            <u>Objeto:</u> \\n                            <b>CONTRATA&Ccedil;&Atilde;O DE EMPRESA ESPECIALIZADA EM SERVI&Ccedil;OS DE ENGENHARIA PARA EXECU&Ccedil;&Atilde;O DA REFORMA DA CHURRASQUEIRA PAVILH&Atilde;O DA COMUNIDADE S&Atilde;O JOS&Eacute; LOCALIZADA NA SCAR 221, NO MUNIC&Iacute;PIO DE S&Atilde;O CARLOS/SC, PORTARIA N&ordm; 251/SEF - 24/10/2024.</b>\\n                        </p>\\n\\n                        <p/>\\n\\n                        <p>\\n                            <a name=\"_GoBack\"/>Data limite para cadastro de propostas: At&eacute; &agrave;s 08h30mim do dia 29 de novembro de 2024 (hor&aacute;rio de Bras&iacute;lia/DF). Abertura: dia 29 de novembro de 2024, &agrave;s 08h31min (hor&aacute;rio de Bras&iacute;lia/DF), ambos no endere&ccedil;o eletr&ocirc;nico: \\n                            <a href=\"file:///C:/Users/Computador/Desktop/PUBLICA&Ccedil;&Otilde;ES/2021/www.portaldecompraspublicas.com.br\">www.portaldecompraspublicas.com.br</a>. \\n                        </p>\\n\\n                        <p/>\\n\\n                        <p>O Edital e esclarecimentos poder&atilde;o ser obtidos no seguinte endere&ccedil;o e hor&aacute;rios: Rua Dem&eacute;trio L&oacute;renz, 747, nos dias &uacute;teis, de Segunda &agrave; Sexta, das 07:30 as 11:30 e das 13:30 &agrave;s 17:30 horas, ou pelo fone (49) 3325-3030.  \\n                            <a href=\"https://saocarlos.atende.net\">https://saocarlos.atende.net</a> \\n                        </p>\\n\\n                        <p/>\\n\\n                        <p>SAO CARLOS/SC, 11 DE NOVEMBRO DE 2024. </p>\\n\\n                        <p/>\\n\\n                        <p/>\\n\\n                        <p/>\\n\\n                        <p>\\n                            <b>RUDI MIGUEL SANDER</b>\\n                        </p>\\n\\n                        <p>\\n                            <b>Prefeito </b>\\n                        </p>\\n\\n                    </td>\\n                </tr>\\n\\n            </tbody>\\n        </table>\\n\\n        <p/>\\n\\n    </body>\\n</html>\\n',\n",
       "  'url': 'https://www.diariomunicipal.sc.gov.br/arquivosbd/atos/2024/11/1731439571_aviso_de_licitao_1822024__adm_extrato.pdf'},\n",
       " '6612841': {'titulo': 'RELAÇÃO DE NOMES PARA SORTEIO- PL 082/2024 - IL 012/2024 - EDITAL DE CREDENCIAMENTO Nº 004/2024 - SUBCOMISSÃO TÉCNICA PARA O PL 072.24 - CC 006.24 - PML - LEI 14.133/21',\n",
       "  'data': '2024-11-12 19:16:02',\n",
       "  'cod_registro_info_sfinge': None,\n",
       "  'municipio': 'Luzerna',\n",
       "  'entidade': 'Prefeitura municipal de Luzerna',\n",
       "  'categoria': 'Licitações',\n",
       "  'link': 'https://www.diariomunicipal.sc.gov.br/?q=id:6612841',\n",
       "  'texto': '<html xmlns=\"http://www.w3.org/1999/xhtml\">\\n\\n    <head>\\n\\n        <meta name=\"pdf:PDFVersion\" content=\"1.7\"/>\\n\\n        <meta name=\"xmp:CreatorTool\" content=\"Microsoft&reg; Word LTSC\"/>\\n\\n        <meta name=\"pdf:hasXFA\" content=\"false\"/>\\n\\n        <meta name=\"access_permission:modify_annotations\" content=\"true\"/>\\n\\n        <meta name=\"access_permission:can_print_degraded\" content=\"true\"/>\\n\\n        <meta name=\"dc:creator\" content=\"Debora Tais Menlak\"/>\\n\\n        <meta name=\"dcterms:created\" content=\"2024-11-12T22:14:40Z\"/>\\n\\n        <meta name=\"dcterms:modified\" content=\"2024-11-12T22:15:22Z\"/>\\n\\n        <meta name=\"dc:format\" content=\"application/pdf; version=1.7\"/>\\n\\n        <meta name=\"xmpMM:DocumentID\" content=\"uuid:33369928-5293-40BD-A0F9-4D777058D5E6\"/>\\n\\n        <meta name=\"pdf:docinfo:creator_tool\" content=\"Microsoft&reg; Word LTSC\"/>\\n\\n        <meta name=\"access_permission:fill_in_form\" content=\"true\"/>\\n\\n        <meta name=\"pdf:docinfo:modified\" content=\"2024-11-12T22:15:22Z\"/>\\n\\n        <meta name=\"pdf:hasCollection\" content=\"false\"/>\\n\\n        <meta name=\"pdf:encrypted\" content=\"false\"/>\\n\\n        <meta name=\"xmp:CreateDate\" content=\"2024-11-12T19:14:40Z\"/>\\n\\n        <meta name=\"Content-Length\" content=\"246300\"/>\\n\\n        <meta name=\"pdf:hasMarkedContent\" content=\"true\"/>\\n\\n        <meta name=\"Content-Type\" content=\"application/pdf\"/>\\n\\n        <meta name=\"xmp:ModifyDate\" content=\"2024-11-12T19:15:22Z\"/>\\n\\n        <meta name=\"pdf:docinfo:creator\" content=\"Debora Tais Menlak\"/>\\n\\n        <meta name=\"xmp:MetadataDate\" content=\"2024-11-12T19:15:22Z\"/>\\n\\n        <meta name=\"dc:language\" content=\"pt-BR\"/>\\n\\n        <meta name=\"pdf:producer\" content=\"Microsoft&reg; Word LTSC\"/>\\n\\n        <meta name=\"access_permission:extract_for_accessibility\" content=\"true\"/>\\n\\n        <meta name=\"access_permission:assemble_document\" content=\"true\"/>\\n\\n        <meta name=\"xmpTPg:NPages\" content=\"1\"/>\\n\\n        <meta name=\"pdf:hasAcroFormFields\" content=\"true\"/>\\n\\n        <meta name=\"pdf:hasXMP\" content=\"true\"/>\\n\\n        <meta name=\"signature:filter\" content=\"Adobe.PPKLite\"/>\\n\\n        <meta name=\"access_permission:extract_content\" content=\"true\"/>\\n\\n        <meta name=\"signature:name\" content=\"JULIANO SCHNEIDER:00511300921\"/>\\n\\n        <meta name=\"signature:date\" content=\"2024-11-12T22:15:22Z\"/>\\n\\n        <meta name=\"access_permission:can_print\" content=\"true\"/>\\n\\n        <meta name=\"X-TIKA:Parsed-By\" content=\"org.apache.tika.parser.CompositeParser\"/>\\n\\n        <meta name=\"X-TIKA:Parsed-By\" content=\"org.apache.tika.parser.pdf.PDFParser\"/>\\n\\n        <meta name=\"access_permission:can_modify\" content=\"true\"/>\\n\\n        <meta name=\"pdf:docinfo:producer\" content=\"Microsoft&reg; Word LTSC\"/>\\n\\n        <meta name=\"pdf:docinfo:created\" content=\"2024-11-12T22:14:40Z\"/>\\n\\n        <meta name=\"hasSignature\" content=\"true\"/>\\n\\n        <title>&#0;</title>\\n\\n    </head>\\n\\n    <body>\\n        <body>\\n            <h2>PROCESSOLICITAT&Oacute;RIO N&ordm; 082/2024 - PML</h2>\\n\\n            <p>INEXIGIBILIDADE DE LICITA&Ccedil;&Atilde;O N&ordm; 012/2024 - PML</p>\\n\\n            <p>EDITAL DE CREDENCIAMENTO N&ordm; 004/2024 - PML</p>\\n\\n            <p>(LEI N&ordm; 14.133/21)</p>\\n\\n            <p/>\\n\\n            <p>O munic&iacute;pio de Luzerna/SC, representado neste ato pelo seu prefeito, o Sr. JULIANO SCHNEIDER, informa que a Comiss&atilde;o Permanente de Licita&ccedil;&atilde;o realizar&aacute; sess&atilde;o p&uacute;blica para o sorteio da subcomiss&atilde;o t&eacute;cnica, pertinente ao procedimento licitat&oacute;rio PL 072.24 &ndash; CC 006.24, para contrata&ccedil;&atilde;o de servi&ccedil;os de Ag&ecirc;ncia de Publicidade, do tipo t&eacute;cnica e pre&ccedil;o, conforme as Leis n&ordm; 14.133/2021 e, em especial, o art. 10 da Lei n&ordm; 12.232/2010, para atender as demandas da Prefeitura Municipal de Luzerna/SC, raz&atilde;o pela qual divulga a rela&ccedil;&atilde;o dos nomes que ir&atilde;o participar do sorteio:</p>\\n\\n            <p>➢ Nomes com v&iacute;nculo a Prefeitura: Cheila Pegoraro, Sidnei Naim Schmidt e Cristiano Hoffelder.</p>\\n\\n            <p>➢ Nomes sem v&iacute;nculo a Prefeitura: Erica Ingrid Chaly Ferreira, Vanderlei Ferreira e Juliana Maria Lanzarini.</p>\\n\\n            <p>A sess&atilde;o p&uacute;blica ocorrer&aacute; as 14h horas do dia 28 de novembro de 2024, no Setor de Licita&ccedil;&otilde;es da Prefeitura Municipal de Luzerna, Av. 16 de Fevereiro, 151, Centro, CEP: 89609-000, Luzerna-SC.</p>\\n\\n            <p>Maiores Informa&ccedil;&otilde;es poder&atilde;o ser obtidos pelo telefone (49) 3551-4700 ou pelo e-mail\\n                <a href=\"mailto:assadministrativo@luzerna.sc.gov.br\">assadministrativo@luzerna.sc.gov.br</a>, ou no site\\n                <a href=\"http://www.luzerna.sc.gov.br/\">www.luzerna.sc.gov.br</a>, na op&ccedil;&atilde;o Publica&ccedil;&otilde;es Oficiais&gt;Licita&ccedil;&otilde;es&gt;Concorr&ecirc;ncia.\\n            </p>\\n\\n            <p/>\\n\\n            <p/>\\n\\n            <p>Luzerna, 12 de novembro de 2024.</p>\\n\\n            <p/>\\n\\n            <p/>\\n\\n            <p>----------------------------------------------------------------------</p>\\n\\n            <p>MUNIC&Iacute;PIO DE LUZERNA</p>\\n\\n            <p>JULIANO SCHNEIDER</p>\\n\\n            <p>Prefeito</p>\\n\\n            <p/>\\n\\n        </body>\\n        <p> ESTADO DE SANTA CATARINA MUNIC&Iacute;PIO DE LUZERNA SETOR DE LICITA&Ccedil;&Otilde;ES Av. 16 de Fevereiro, n&ordm; 151, Centro, Luzerna/SC, 89609-000 (49) 3551-4700 | www.luzerna.sc.gov.br | debora@luzerna.sc.gov.br  </p>\\n\\n        <div class=\"page\">\\n            <p/>\\n\\n        </div>\\n\\n    </body>\\n</html>\\n',\n",
       "  'url': 'https://www.diariomunicipal.sc.gov.br/arquivosbd/atos/2024/11/1731449755_25._relao_de_nomes_para_o_sorteio_da_subcomisso_tcnica_extrato.pdf'},\n",
       " '6611873': {'titulo': 'EXTRATO DE HOMOLOGAÇÃO ADJUDICAÇÃO DE PROCESSO LICITATÓRIO 86/2023 PREGÃO ELETRONICO 47/2024',\n",
       "  'data': '2024-11-12 17:29:21',\n",
       "  'cod_registro_info_sfinge': None,\n",
       "  'municipio': 'Treze Tílias',\n",
       "  'entidade': 'Prefeitura municipal de Treze Tílias',\n",
       "  'categoria': 'Licitações',\n",
       "  'link': 'https://www.diariomunicipal.sc.gov.br/?q=id:6611873',\n",
       "  'texto': '<html xmlns=\"http://www.w3.org/1999/xhtml\">\\n\\n    <head>\\n\\n        <meta name=\"cp:revision\" content=\"7\"/>\\n\\n        <meta name=\"extended-properties:AppVersion\" content=\"16.0000\"/>\\n\\n        <meta name=\"meta:paragraph-count\" content=\"2\"/>\\n\\n        <meta name=\"meta:word-count\" content=\"227\"/>\\n\\n        <meta name=\"extended-properties:Application\" content=\"Microsoft Office Word\"/>\\n\\n        <meta name=\"meta:last-author\" content=\"Licita&ccedil;&atilde;o\"/>\\n\\n        <meta name=\"dc:creator\" content=\"Licita&ccedil;&otilde;es\"/>\\n\\n        <meta name=\"extended-properties:Company\" content=\"\"/>\\n\\n        <meta name=\"xmpTPg:NPages\" content=\"1\"/>\\n\\n        <meta name=\"dcterms:created\" content=\"2024-06-13T19:30:00Z\"/>\\n\\n        <meta name=\"meta:line-count\" content=\"10\"/>\\n\\n        <meta name=\"dcterms:modified\" content=\"2024-11-12T20:27:00Z\"/>\\n\\n        <meta name=\"meta:character-count\" content=\"1227\"/>\\n\\n        <meta name=\"extended-properties:Template\" content=\"Normal\"/>\\n\\n        <meta name=\"meta:character-count-with-spaces\" content=\"1452\"/>\\n\\n        <meta name=\"X-TIKA:Parsed-By\" content=\"org.apache.tika.parser.CompositeParser\"/>\\n\\n        <meta name=\"X-TIKA:Parsed-By\" content=\"org.apache.tika.parser.DefaultParser\"/>\\n\\n        <meta name=\"X-TIKA:Parsed-By\" content=\"org.apache.tika.parser.microsoft.ooxml.OOXMLParser\"/>\\n\\n        <meta name=\"extended-properties:DocSecurityString\" content=\"None\"/>\\n\\n        <meta name=\"extended-properties:TotalTime\" content=\"14\"/>\\n\\n        <meta name=\"Content-Length\" content=\"20044\"/>\\n\\n        <meta name=\"meta:page-count\" content=\"1\"/>\\n\\n        <meta name=\"Content-Type\" content=\"application/vnd.openxmlformats-officedocument.wordprocessingml.document\"/>\\n\\n        <meta name=\"dc:publisher\" content=\"\"/>\\n\\n        <meta name=\"custom:KSOProductBuildVer\" content=\"1046-11.2.0.10258\"/>\\n\\n        <meta name=\"custom:ICV\" content=\"28F70E2485564B8B8BC046E53B672A78\"/>\\n\\n        <title>&#0;</title>\\n\\n    </head>\\n\\n    <body>\\n        <p>\\n            <b>ESTADO DE SANTA CATARINA</b>\\n        </p>\\n\\n        <p>\\n            <b>MUNIC&Iacute;PIO DE TREZE T&Iacute;LIAS</b>\\n        </p>\\n\\n        <p>\\n            <b>PROCESSO ADMINISTRATIVO 86/2024</b>\\n        </p>\\n\\n        <p>\\n            <b>PREG&Atilde;O ELETRONICO N. 47/2024</b>\\n        </p>\\n\\n        <p/>\\n\\n        <p/>\\n\\n        <p>\\n            <b>EXTRATO DE HOMOLOGA&Ccedil;&Atilde;O ADJUDICA&Ccedil;&Atilde;O DE PROCESSO LICITAT&Oacute;RIO 86/2023 PREG&Atilde;O ELETRONICO 47/2024</b>\\n        </p>\\n\\n        <p/>\\n\\n        <p>Rudi Ohlweiler, Prefeito, no uso das atribui&ccedil;&otilde;es que lhe s&atilde;o conferidas pela legisla&ccedil;&atilde;o em vigor, a vista do parecer conclusivo exarado pela Comiss&atilde;o de Licita&ccedil;&otilde;es e Departamento Jur&iacute;dico, resolve.</p>\\n\\n        <p/>\\n\\n        <p>HOMOLOGAR a presente Licita&ccedil;&atilde;o nestes termos:</p>\\n\\n        <p class=\"list_Paragraph\">a) Processo n&ordm; 86/2024</p>\\n\\n        <p class=\"list_Paragraph\">b) Preg&atilde;o Eletr&ocirc;nico n&ordm; 47/2023 &ndash; PE</p>\\n\\n        <p class=\"list_Paragraph\">c) Modalidade: PREG&Atilde;O ELETRONICO - SISTEMA DE REGISTRO DE PRE&Ccedil;OS -  MENOR PRE&Ccedil;O/LOTE</p>\\n\\n        <p class=\"list_Paragraph\">d) Data da Homologa&ccedil;&atilde;o: 12/11/2024</p>\\n\\n        <p class=\"list_Paragraph\">e) O objeto da presente licita&ccedil;&atilde;o &eacute; o Registro de Pre&ccedil;o para AQUISI&Ccedil;&Atilde;O EVENTUAL E FUTURA, SOB DEMANDA, DOS ITENS DE FORMA UNIT&Aacute;RIA, DE MATERIAIS EL&Eacute;TRICOS, HIDR&Aacute;ULICOS, HIDROSSANIT&Aacute;RIOS E SIMILARES, PARA REALIZA&Ccedil;&Atilde;O DE PEQUENOS REPAROS, INSTALA&Ccedil;&Otilde;ES, OBRAS E MANUTEN&Ccedil;&Otilde;ES EMERGENCIAIS, PARA AS DIVERSAS SECRETARIAS DO MUNIC&Iacute;PIO DE TREZE T&Iacute;LIAS, conforme condi&ccedil;&otilde;es, quantidades e exig&ecirc;ncias estabelecidas neste Edital e seus anexos. </p>\\n\\n        <p class=\"list_Paragraph\">f) Fornecedores e Itens declarados Vencedores (cfe. Cota&ccedil;&atilde;o) </p>\\n\\n        <table>\\n            <tbody>\\n                <tr>\\t\\n                    <td>\\n                        <p class=\"list_Paragraph\">FORNECEDORES E ITENS</p>\\n\\n                    </td>\\t\\n                    <td>\\n                        <p class=\"list_Paragraph\">Valor total do item</p>\\n\\n                    </td>\\n                </tr>\\n\\n                <tr>\\t\\n                    <td>\\n                        <p>\\n                            <b>177644 - BALDO MATERIAIS DE CONSTRU&Ccedil;AO LTDA Lotes I, II, III, IV, V, VII, VIII, IX, X, XII, XIII e XIV</b>\\n                        </p>\\n\\n                    </td>\\t\\n                    <td>\\n                        <p class=\"list_Paragraph\">R$1.343.339,50</p>\\n\\n                    </td>\\n                </tr>\\n\\n                <tr>\\t\\n                    <td>\\n                        <p>\\n                            <b>5676 - NOVA POMPEIA COMERCIO VAREJISTA E ATACADISTA DE TINTAS E FERRAMENTAS LTDA Lote VII</b>\\n                        </p>\\n\\n                    </td>\\t\\n                    <td>\\n                        <p class=\"list_Paragraph\">R$314.899,99</p>\\n\\n                    </td>\\n                </tr>\\n\\n            </tbody>\\n        </table>\\n\\n        <p class=\"list_Paragraph\"/>\\n\\n        <p class=\"list_Paragraph\"/>\\n\\n        <p class=\"list_Paragraph\"/>\\n\\n        <p class=\"list_Paragraph\"/>\\n\\n        <p class=\"list_Paragraph\"/>\\n\\n        <p class=\"list_Paragraph\"/>\\n\\n        <p class=\"list_Paragraph\"/>\\n\\n        <p class=\"list_Paragraph\"/>\\n\\n        <p class=\"list_Paragraph\"/>\\n\\n        <p class=\"list_Paragraph\"/>\\n\\n        <p class=\"list_Paragraph\"/>\\n\\n        <p class=\"list_Paragraph\">Treze T&iacute;lias/SC, dias 12 de novembro de 2024.</p>\\n\\n        <p class=\"list_Paragraph\"/>\\n\\n        <p class=\"list_Paragraph\">\\n            <b>Rudi Ohlweiler</b>\\n        </p>\\n\\n        <p class=\"list_Paragraph\">\\n            <b>Prefeito</b>\\n        </p>\\n\\n    </body>\\n</html>\\n',\n",
       "  'url': 'https://www.diariomunicipal.sc.gov.br/arquivosbd/atos/2024/11/1731443354_extrato_homologao__dom_extrato.pdf'},\n",
       " '6611784': {'titulo': 'TERMO DE HOMOLOGAÇÃO DISPENSA 51/2024',\n",
       "  'data': '2024-11-12 16:59:40',\n",
       "  'cod_registro_info_sfinge': None,\n",
       "  'municipio': 'Itaiópolis',\n",
       "  'entidade': 'Prefeitura municipal de Itaiópolis',\n",
       "  'categoria': 'Licitações',\n",
       "  'link': 'https://www.diariomunicipal.sc.gov.br/?q=id:6611784',\n",
       "  'texto': '<html xmlns=\"http://www.w3.org/1999/xhtml\">\\n\\n    <head>\\n\\n        <meta name=\"pdf:PDFVersion\" content=\"1.6\"/>\\n\\n        <meta name=\"xmp:CreatorTool\" content=\"Compras\"/>\\n\\n        <meta name=\"pdf:docinfo:title\" content=\"Termo de Homologa&ccedil;&atilde;o e Adjudica&ccedil;&atilde;o (unificado)\"/>\\n\\n        <meta name=\"pdf:hasXFA\" content=\"false\"/>\\n\\n        <meta name=\"access_permission:modify_annotations\" content=\"true\"/>\\n\\n        <meta name=\"access_permission:can_print_degraded\" content=\"true\"/>\\n\\n        <meta name=\"dc:creator\" content=\"PREFEITURA MUNICIPAL DE ITAIOPOLIS - Karima D Muhamad\"/>\\n\\n        <meta name=\"dcterms:created\" content=\"2024-11-12T17:55:46Z\"/>\\n\\n        <meta name=\"dcterms:modified\" content=\"2024-11-12T19:10:17Z\"/>\\n\\n        <meta name=\"dc:format\" content=\"application/pdf; version=1.6\"/>\\n\\n        <meta name=\"xmpMM:DocumentID\" content=\"uuid:ec18e3d7-448d-4514-93e6-4f1d7760c12c\"/>\\n\\n        <meta name=\"pdf:docinfo:creator_tool\" content=\"Compras\"/>\\n\\n        <meta name=\"access_permission:fill_in_form\" content=\"true\"/>\\n\\n        <meta name=\"pdf:docinfo:modified\" content=\"2024-11-12T19:10:17Z\"/>\\n\\n        <meta name=\"pdf:hasCollection\" content=\"false\"/>\\n\\n        <meta name=\"pdf:encrypted\" content=\"false\"/>\\n\\n        <meta name=\"dc:title\" content=\"Termo de Homologa&ccedil;&atilde;o e Adjudica&ccedil;&atilde;o (unificado)\"/>\\n\\n        <meta name=\"xmp:CreateDate\" content=\"2024-11-12T14:55:46Z\"/>\\n\\n        <meta name=\"Content-Length\" content=\"198864\"/>\\n\\n        <meta name=\"pdf:hasMarkedContent\" content=\"false\"/>\\n\\n        <meta name=\"Content-Type\" content=\"application/pdf\"/>\\n\\n        <meta name=\"xmp:ModifyDate\" content=\"2024-11-12T16:10:17Z\"/>\\n\\n        <meta name=\"pdf:docinfo:creator\" content=\"PREFEITURA MUNICIPAL DE ITAIOPOLIS - Karima D Muhamad\"/>\\n\\n        <meta name=\"xmp:MetadataDate\" content=\"2024-11-12T16:10:17Z\"/>\\n\\n        <meta name=\"pdf:producer\" content=\"iText 2.1.7 by 1T3XT\"/>\\n\\n        <meta name=\"access_permission:extract_for_accessibility\" content=\"true\"/>\\n\\n        <meta name=\"access_permission:assemble_document\" content=\"true\"/>\\n\\n        <meta name=\"xmpTPg:NPages\" content=\"1\"/>\\n\\n        <meta name=\"pdf:hasAcroFormFields\" content=\"true\"/>\\n\\n        <meta name=\"pdf:hasXMP\" content=\"true\"/>\\n\\n        <meta name=\"signature:filter\" content=\"Adobe.PPKLite\"/>\\n\\n        <meta name=\"access_permission:extract_content\" content=\"true\"/>\\n\\n        <meta name=\"signature:name\" content=\"MOZART JOSE MYCZKOWSKI:63801663949\"/>\\n\\n        <meta name=\"signature:date\" content=\"2024-11-12T19:10:17Z\"/>\\n\\n        <meta name=\"access_permission:can_print\" content=\"true\"/>\\n\\n        <meta name=\"X-TIKA:Parsed-By\" content=\"org.apache.tika.parser.CompositeParser\"/>\\n\\n        <meta name=\"X-TIKA:Parsed-By\" content=\"org.apache.tika.parser.pdf.PDFParser\"/>\\n\\n        <meta name=\"access_permission:can_modify\" content=\"true\"/>\\n\\n        <meta name=\"pdf:docinfo:producer\" content=\"iText 2.1.7 by 1T3XT\"/>\\n\\n        <meta name=\"pdf:docinfo:created\" content=\"2024-11-12T17:55:46Z\"/>\\n\\n        <meta name=\"hasSignature\" content=\"true\"/>\\n\\n        <title>Termo de Homologa&ccedil;&atilde;o e Adjudica&ccedil;&atilde;o (unificado)</title>\\n\\n    </head>\\n\\n    <body>\\n        <div class=\"page\">\\n            <p/>\\n\\n            <p>P&aacute;gina: 1 / 1\\n</p>\\n\\n            <p>Nr.:   51/2024\\n</p>\\n\\n            <p>   Processo Adm.:\\n</p>\\n\\n            <p>   Data do Processo:\\n</p>\\n\\n            <p>DISPENSA DE LICITA&Ccedil;&Atilde;O\\n</p>\\n\\n            <p>112/2024\\n</p>\\n\\n            <p>30/10/2024\\n</p>\\n\\n            <p>E-mail:   Site: http://www.itaiopolis.sc.gov.br\\n</p>\\n\\n            <p>ESTADO DE SANTA CATARINA\\nPREFEITURA MUNICIPAL DE ITAIOPOLIS\\nRua Getulio Vargas, 308 - Centro - Itai&oacute;polis\\nCEP: 89340-000 CNPJ: 83.102.517/0001-19 Telefone: (47) 3652-2211\\n</p>\\n\\n            <p>c) Modalidade:\\n</p>\\n\\n            <p>O(a) respons&aacute;vel desta entidade, no uso das atribui&ccedil;&otilde;es que lhe s&atilde;o conferidas pela legisla&ccedil;&atilde;o em vigor,\\nespecialmente  pela  lei  14.133/2021,  Art.  75,  II  e  altera&ccedil;&otilde;es  posteriores,  a  vista  do  parecer  conclusivo  exarado\\npela Comiss&atilde;o de Licita&ccedil;&otilde;es, resolve:\\n</p>\\n\\n            <p>e) Objeto da Licita&ccedil;&atilde;o:\\n</p>\\n\\n            <p>a) Nr. Processo:\\nb) Nr. Licita&ccedil;&atilde;o:\\n</p>\\n\\n            <p>d) Data de Homologa&ccedil;&atilde;o:\\n</p>\\n\\n            <p>TERMO DE HOMOLOGA&Ccedil;&Atilde;O E ADJUDICA&Ccedil;&Atilde;O DE PROCESSO LICITAT&Oacute;RIO\\n</p>\\n\\n            <p>01 - Homologar e Adjudicar a presente Licita&ccedil;&atilde;o nestes termos:\\n</p>\\n\\n            <p>Dispensa de licita&ccedil;&atilde;o\\n51/2024 - DL\\n112/2024\\n</p>\\n\\n            <p>contrata&ccedil;&atilde;o, de empresa especializada para o fornecimento de bandeiras do Brasil,\\npara atender a demanda da Administra&ccedil;&atilde;o P&uacute;blica de Itai&oacute;polis.\\n</p>\\n\\n            <p>Participante: AMANDA CARDOSO LAVARIAS BANDEIRAS LTDA\\n</p>\\n\\n            <p>Item Especifica&ccedil;&atilde;o Qtd. Unidade Valor Unit&aacute;rio Valor Total\\n1 Bandeira Nacional 2,000 UND 450,00 900,00\\n</p>\\n\\n            <p>Total do Participante: 900,00\\n</p>\\n\\n            <p>Total Geral: 900,00\\n</p>\\n\\n            <p>Manuten&ccedil;&atilde;o da Secretaria de Administra&ccedil;&atilde;o e Finan&ccedil;as 03.001.04.122.0003.2008.3.3.90.00.00 R$ 1.588,50\\n</p>\\n\\n            <p>Dota&ccedil;&atilde;oDescri&ccedil;&atilde;o da Despesa Valor Estimado\\n</p>\\n\\n            <p>02 - Autorizar a emiss&atilde;o da(s) nota(s) de empenho correspondente(s):\\n</p>\\n\\n            <p>Assinatura do Respons&aacute;vel\\n</p>\\n\\n            <p>12 de Novembro de 2024Itai&oacute;polis,\\n</p>\\n\\n            <p>MOZART JOSE MYCZKOWSKI\\n</p>\\n\\n            <p>Prefeito Municipal\\n</p>\\n\\n            <p>Sistema: Compras -  Usu&aacute;rio: KarimaMuhamad. Emiss&atilde;o: 12/11/2024, &agrave;s 14:55:46. Protocolo: 96ae0c54-4ebd-4a46-ae47-af3fbf4dad2d</p>\\n\\n            <p/>\\n\\n        </div>\\n\\n    </body>\\n</html>\\n',\n",
       "  'url': 'https://www.diariomunicipal.sc.gov.br/arquivosbd/atos/2024/11/1731441570_termodehomologaoeadjudicaounificado_bandeiras_1_extrato.pdf'},\n",
       " '6612359': {'titulo': 'EXTRATO DE PUBLICAÇÃO DA DISPENSA Nº 80/2024',\n",
       "  'data': '2024-11-12 18:19:00',\n",
       "  'cod_registro_info_sfinge': None,\n",
       "  'municipio': 'Planalto Alegre',\n",
       "  'entidade': 'Prefeitura municipal de Planalto Alegre',\n",
       "  'categoria': 'Licitações',\n",
       "  'link': 'https://www.diariomunicipal.sc.gov.br/?q=id:6612359',\n",
       "  'texto': '<html xmlns=\"http://www.w3.org/1999/xhtml\">\\n\\n    <head>\\n\\n        <meta name=\"cp:revision\" content=\"46\"/>\\n\\n        <meta name=\"meta:word-count\" content=\"162\"/>\\n\\n        <meta name=\"extended-properties:Application\" content=\"Microsoft Office Word\"/>\\n\\n        <meta name=\"meta:last-author\" content=\"Licita&ccedil;&atilde;o\"/>\\n\\n        <meta name=\"dc:creator\" content=\"Prefeitura Municipal de Planalo Alegre\"/>\\n\\n        <meta name=\"extended-properties:Company\" content=\"Prefeitura\"/>\\n\\n        <meta name=\"meta:print-date\" content=\"2023-10-11T19:11:00Z\"/>\\n\\n        <meta name=\"xmpTPg:NPages\" content=\"1\"/>\\n\\n        <meta name=\"dcterms:created\" content=\"2023-09-15T13:29:00Z\"/>\\n\\n        <meta name=\"dcterms:modified\" content=\"2024-11-12T20:49:00Z\"/>\\n\\n        <meta name=\"meta:character-count\" content=\"881\"/>\\n\\n        <meta name=\"extended-properties:Template\" content=\"Normal\"/>\\n\\n        <meta name=\"X-TIKA:Parsed-By\" content=\"org.apache.tika.parser.CompositeParser\"/>\\n\\n        <meta name=\"X-TIKA:Parsed-By\" content=\"org.apache.tika.parser.DefaultParser\"/>\\n\\n        <meta name=\"X-TIKA:Parsed-By\" content=\"org.apache.tika.parser.microsoft.OfficeParser\"/>\\n\\n        <meta name=\"dc:title\" content=\"Of\"/>\\n\\n        <meta name=\"extended-properties:TotalTime\" content=\"111000000000\"/>\\n\\n        <meta name=\"Content-Length\" content=\"1098240\"/>\\n\\n        <meta name=\"meta:page-count\" content=\"1\"/>\\n\\n        <meta name=\"Content-Type\" content=\"application/msword\"/>\\n\\n        <title>Of</title>\\n\\n    </head>\\n\\n    <body>\\n        <div class=\"header\">\\n            <p class=\"cabe&ccedil;alho\">\\n                <img src=\"embedded:image1.wmf\" alt=\"image1.wmf\"/>\\n                <img src=\"embedded:image2.wmf\" alt=\"image2.wmf\"/>\\n            </p>\\n\\n            <p class=\"cabe&ccedil;alho\">\\n                <img src=\"embedded:image3.png\" alt=\"image3.png\"/>\\n            </p>\\n\\n            <p class=\"cabe&ccedil;alho\"/>\\n\\n        </div>\\n\\n        <table>\\n            <tbody>\\n                <tr>\\t\\n                    <td>\\n                        <p>\\n                            <b>ESTADO DE SANTA CATARINA</b>\\n                        </p>\\n\\n                    </td>\\n                </tr>\\n\\n                <tr>\\t\\n                    <td>\\n                        <p>\\n                            <b>MUNIC&Iacute;PIO DE PLANALTO ALEGRE</b>\\n                        </p>\\n\\n                    </td>\\n                </tr>\\n\\n                <tr>\\t\\n                    <td>\\n                        <p>\\n                            <b>EXTRATO DE DISPENSA PRESENCIAL</b>\\n                        </p>\\n\\n                    </td>\\n                </tr>\\n\\n                <tr>\\t\\n                    <td>\\n                        <p>\\n                            <b>Processo Adm. N&ordm; 80/2024</b>\\n                        </p>\\n\\n                    </td>\\n                </tr>\\n\\n                <tr>\\t\\n                    <td>\\n                        <p>\\n                            <b>Edital: DISPENSA PRESENCIAL N&ordm; 80/2024</b>\\n                        </p>\\n\\n                        <p>\\n                            <b/>\\n                        </p>\\n\\n                    </td>\\n                </tr>\\n\\n                <tr>\\t\\n                    <td>\\n                        <p>Objeto:\\n                            <b> AQUISI&Ccedil;&Atilde;O DE CAMISETAS PARA O PASSEIO CICL&Iacute;STICO A SER REALIZADO NO DIA 12/12/2024 E DEMAIS FESTIVIDADES DA SEMANA DE ANIVERS&Aacute;RIO DO MUNIC&Iacute;PIO, CONFORME DESCRI&Ccedil;&Atilde;O T&Eacute;CNICA DETALHADA E DEMAIS CONDI&Ccedil;&Otilde;ES CONSTANTES DESTE ANEXO I &ndash; TERMO DE REFER&Ecirc;NCIA.</b>\\n                        </p>\\n\\n                        <p>\\n                            <b>ENVIO DE PROPOSTAS ADICIONAIS\\n</b>\\n                        </p>\\n\\n                        <p class=\"par&aacute;grafo_da_Lista\">I -  \\n                            <b>Prazo:</b> 13/11/2024 &agrave; 18/11/2024\\n                        </p>\\n\\n                        <p class=\"par&aacute;grafo_da_Lista\">II -  \\n                            <b>Local de envio:</b> E-mail institucional do setor de licita&ccedil;&otilde;es &lt;\\n                            <a href=\"licitacao@planaltoalegre.sc.gov.br\">\\n                                <u>licitacao@planaltoalegre.sc.gov.br</u>\\n                            </a>&gt;.\\n                        </p>\\n\\n                        <p/>\\n\\n                    </td>\\n                </tr>\\n\\n                <tr>\\t\\n                    <td>\\n                        <p>O Edital e esclarecimentos poder&atilde;o ser obtidos no seguinte endere&ccedil;o e hor&aacute;rios: Av. Santa Catarina, 390, Centro, Planalto Alegre, nos dias &uacute;teis, das Segundas &agrave; Sextas, das 07:30 &agrave;s 11:30 e das 13:10 &agrave;s 17:10 horas, ou pelo fone 3335-0066 e no site: \\n                            <a href=\"http://www.planaltoalegre.sc.gov.br\">\\n                                <u>www.planaltoalegre.sc.gov.br</u>\\n                            </a>. \\n                        </p>\\n\\n                    </td>\\n                </tr>\\n\\n                <tr>\\t\\n                    <td>\\n                        <p/>\\n\\n                    </td>\\n                </tr>\\n\\n                <tr>\\t\\n                    <td>\\n                        <p>Planalto Alegre, 12 de novembro de 2024.\\n</p>\\n\\n                        <p/>\\n\\n                    </td>\\n                </tr>\\n\\n                <tr>\\t\\n                    <td>\\n                        <p/>\\n\\n                    </td>\\n                </tr>\\n\\n                <tr>\\t\\n                    <td>\\n                        <p>SADI DALLACORTTE\\n                            <b/>\\n                        </p>\\n\\n                    </td>\\n                </tr>\\n\\n                <tr>\\t\\n                    <td>\\n                        <p>Prefeito</p>\\n\\n                    </td>\\n                </tr>\\n\\n            </tbody>\\n        </table>\\n\\n        <div class=\"footer\">\\n            <p class=\"cabe&ccedil;alho\">Av. Santa Catarina, 390 &ndash; centro &ndash; 89882-000  - PLANALTO ALEGRE &ndash; SC\\n</p>\\n\\n            <p class=\"cabe&ccedil;alho\">Fone/Fax: 0xx49-3350066 \\n</p>\\n\\n        </div>\\n\\n    </body>\\n</html>\\n',\n",
       "  'url': 'https://www.diariomunicipal.sc.gov.br/arquivosbd/atos/2024/11/1731446333_extrato_de_publicao_dispensa_extrato.pdf'},\n",
       " '6611617': {'titulo': 'PUBLICAÇÃO DE EXTRATO DE HOMOLOGAÇÃO DE INEXIGIBILIDADE DE LICITAÇÃO Nº FMAS 09/2024',\n",
       "  'data': '2024-11-12 16:37:27',\n",
       "  'cod_registro_info_sfinge': None,\n",
       "  'municipio': 'Canoinhas',\n",
       "  'entidade': 'Prefeitura municipal de Canoinhas',\n",
       "  'categoria': 'Licitações',\n",
       "  'link': 'https://www.diariomunicipal.sc.gov.br/?q=id:6611617',\n",
       "  'texto': '<html xmlns=\"http://www.w3.org/1999/xhtml\">\\n\\n    <head>\\n\\n        <meta name=\"pdf:PDFVersion\" content=\"1.5\"/>\\n\\n        <meta name=\"xmp:CreatorTool\" content=\"Microsoft&reg; Word 2013\"/>\\n\\n        <meta name=\"pdf:hasXFA\" content=\"false\"/>\\n\\n        <meta name=\"access_permission:modify_annotations\" content=\"true\"/>\\n\\n        <meta name=\"access_permission:can_print_degraded\" content=\"true\"/>\\n\\n        <meta name=\"dc:creator\" content=\"Mauricio Afonso\"/>\\n\\n        <meta name=\"dcterms:created\" content=\"2024-11-12T19:19:13Z\"/>\\n\\n        <meta name=\"dcterms:modified\" content=\"2024-11-12T19:19:13Z\"/>\\n\\n        <meta name=\"dc:format\" content=\"application/pdf; version=1.5\"/>\\n\\n        <meta name=\"pdf:docinfo:creator_tool\" content=\"Microsoft&reg; Word 2013\"/>\\n\\n        <meta name=\"access_permission:fill_in_form\" content=\"true\"/>\\n\\n        <meta name=\"pdf:docinfo:modified\" content=\"2024-11-12T19:19:13Z\"/>\\n\\n        <meta name=\"pdf:hasCollection\" content=\"false\"/>\\n\\n        <meta name=\"pdf:encrypted\" content=\"false\"/>\\n\\n        <meta name=\"Content-Length\" content=\"13646\"/>\\n\\n        <meta name=\"pdf:hasMarkedContent\" content=\"true\"/>\\n\\n        <meta name=\"Content-Type\" content=\"application/pdf\"/>\\n\\n        <meta name=\"pdf:docinfo:creator\" content=\"Mauricio Afonso\"/>\\n\\n        <meta name=\"dc:language\" content=\"pt-BR\"/>\\n\\n        <meta name=\"pdf:producer\" content=\"Microsoft&reg; Word 2013\"/>\\n\\n        <meta name=\"access_permission:extract_for_accessibility\" content=\"true\"/>\\n\\n        <meta name=\"access_permission:assemble_document\" content=\"true\"/>\\n\\n        <meta name=\"xmpTPg:NPages\" content=\"1\"/>\\n\\n        <meta name=\"pdf:hasXMP\" content=\"false\"/>\\n\\n        <meta name=\"access_permission:extract_content\" content=\"true\"/>\\n\\n        <meta name=\"access_permission:can_print\" content=\"true\"/>\\n\\n        <meta name=\"X-TIKA:Parsed-By\" content=\"org.apache.tika.parser.CompositeParser\"/>\\n\\n        <meta name=\"X-TIKA:Parsed-By\" content=\"org.apache.tika.parser.pdf.PDFParser\"/>\\n\\n        <meta name=\"access_permission:can_modify\" content=\"true\"/>\\n\\n        <meta name=\"pdf:docinfo:producer\" content=\"Microsoft&reg; Word 2013\"/>\\n\\n        <meta name=\"pdf:docinfo:created\" content=\"2024-11-12T19:19:13Z\"/>\\n\\n        <title>&#0;</title>\\n\\n    </head>\\n\\n    <body>\\n        <div class=\"part\">\\n            <table>\\n                <tr>\\t\\n                    <td>\\n                        <p/>\\n\\n                    </td>\\n                </tr>\\n\\n                <tr>\\t\\n                    <td>\\n                        <p>TERMO DE HOMOLOGA&Ccedil;&Atilde;O DE PREG&Atilde;O</p>\\n\\n                    </td>\\n                </tr>\\n\\n                <tr>\\t\\n                    <td>\\n                        <p/>\\n\\n                    </td>\\n                </tr>\\n\\n                <tr>\\t\\n                    <td>\\n                        <table>\\n                            <tr>\\t\\n                                <td>\\n                                    <p>Processo Administrativo: 11/2024</p>\\n\\n                                    <p>Inexigibilidade: 9/2024</p>\\n\\n                                    <p>Tipo Objeto: Contrata&ccedil;&atilde;o de servi&ccedil;os</p>\\n\\n                                </td>\\n                            </tr>\\n\\n                        </table>\\n\\n                        <p/>\\n\\n                    </td>\\n                </tr>\\n\\n                <tr>\\t\\n                    <td>\\n                        <p/>\\n\\n                    </td>\\n                </tr>\\n\\n                <tr>\\t\\n                    <td>\\n                        <p/>\\n\\n                    </td>\\n                </tr>\\n\\n                <tr>\\t\\n                    <td>\\n                        <p/>\\n\\n                    </td>\\n                </tr>\\n\\n                <tr>\\t\\n                    <td>\\n                        <p>HOMOLOGO</p>\\n\\n                    </td>\\n                </tr>\\n\\n                <tr>\\t\\n                    <td>\\n                        <p/>\\n\\n                    </td>\\n                </tr>\\n\\n                <tr>\\t\\n                    <td>\\n                        <table>\\n                            <tr>\\t\\n                                <td>\\n                                    <p>Nesta data a referida decis&atilde;o e constante da ata anexa, considerando vencedor da licita&ccedil;&atilde;o, cujo objeto trata da: Termo de colabora&ccedil;&atilde;o entre Bombeiros, ACD, APAE e Pleroma.; licita&ccedil;&atilde;o Inexigibilidade n&ordm;. 9/2024, o(s) participante(s):</p>\\n\\n                                    <p/>\\n\\n                                </td>\\n                            </tr>\\n\\n                        </table>\\n\\n                        <p/>\\n\\n                    </td>\\n                </tr>\\n\\n                <tr>\\t\\n                    <td>\\n                        <p/>\\n\\n                    </td>\\n                </tr>\\n\\n                <tr>\\t\\n                    <td>\\n                        <p/>\\n\\n                    </td>\\n                </tr>\\n\\n                <tr>\\t\\n                    <td/>\\n                </tr>\\n\\n                <tr>\\t\\n                    <td>\\n                        <p/>\\n\\n                    </td>\\n                </tr>\\n\\n                <tr>\\t\\n                    <td>\\n                        <p/>\\n\\n                        <table>\\n                            <tr>\\t\\n                                <td>\\n                                    <p>Canoinhas, 12 de novembro de 2024.</p>\\n\\n                                </td>\\n                            </tr>\\n\\n                        </table>\\n\\n                        <p/>\\n\\n                    </td>\\n                </tr>\\n\\n                <tr>\\t\\n                    <td>\\n                        <p/>\\n\\n                    </td>\\n                </tr>\\n\\n                <tr>\\t\\n                    <td>\\n                        <p/>\\n\\n                    </td>\\n                </tr>\\n\\n            </table>\\n\\n            <p/>\\n\\n            <table>\\n                <tr>\\t\\n                    <td>\\n                        <p>___________________________________</p>\\n\\n                        <p>ROSILENE DE FATIMA SCHULKA JAREMCZUK Secret&aacute;ria de Assist&ecirc;ncia Social</p>\\n\\n                    </td>\\t\\n                    <td>\\n                        <p>___________________________________</p>\\n\\n                        <p>MAURICIO PEREIRA Advogado CPF: 089.516.199-07</p>\\n\\n                    </td>\\n                </tr>\\n\\n            </table>\\n\\n            <p/>\\n\\n        </div>\\n\\n        <p>  FUNDO MUNICIPAL DOS DIREITOS DA CRIANCA E DO ADOLESCENTE - FMDCA Compras e Contratos Termo Homologa&ccedil;&atilde;o - Homologa&ccedil;&atilde;o Preg&atilde;o Entidade - Processo Administrativo - Minuta - Licita&ccedil;&atilde;o: 21753 Ano - Minuta - Licita&ccedil;&atilde;o: 2024 N&uacute;mero - Minuta - Licita&ccedil;&atilde;o: 11 codigoCliente: 21753 anoMinuta: 2024 cotaCredenciamento: N&atilde;o   P&aacute;g 1 / 1   \\n IPM Sistemas Ltda Atende.Net - WCO v:2015.04 Identificador: WCO561205-31067-KIVBUWTINRJN-8 - Emitido por: MAURICIO ALFONSO SOBCZAK 12/11/2024 16:19:28 -03:00   </p>\\n\\n        <div class=\"page\">\\n            <p/>\\n\\n        </div>\\n\\n    </body>\\n</html>\\n',\n",
       "  'url': 'https://www.diariomunicipal.sc.gov.br/arquivosbd/atos/2024/11/1731440240_termo_homologao_76_extrato.pdf'}}"
      ]
     },
     "execution_count": 36,
     "metadata": {},
     "output_type": "execute_result"
    }
   ],
   "source": [
    "sample"
   ]
  },
  {
   "cell_type": "code",
   "execution_count": 37,
   "id": "b6a6cdd6332de1fc",
   "metadata": {
    "ExecuteTime": {
     "end_time": "2025-04-02T19:58:17.681977Z",
     "start_time": "2025-03-23T19:48:58.516471Z"
    }
   },
   "outputs": [],
   "source": [
    "import os\n",
    "\n",
    "# get keys for your project from https://cloud.langfuse.com\n",
    "os.environ[\"LANGFUSE_PUBLIC_KEY\"] = \"pk-lf-bb675b61-0e41-4085-871c-cd07a4a506c8\"\n",
    "os.environ[\"LANGFUSE_SECRET_KEY\"] = \"sk-lf-58d1df49-b36f-4f5a-bea8-815eb4872f1a\"\n",
    "os.environ[\"LANGFUSE_HOST\"] = \"http://localhost:3000\""
   ]
  },
  {
   "cell_type": "code",
   "execution_count": 38,
   "id": "33485514b946b210",
   "metadata": {
    "ExecuteTime": {
     "end_time": "2025-04-02T19:58:17.682281Z",
     "start_time": "2025-03-23T19:48:58.563846Z"
    }
   },
   "outputs": [
    {
     "name": "stdout",
     "output_type": "stream",
     "text": [
      "<think>\n",
      "Alright, let's dive into this query. The user initially asked who was the first person to step on the moon, and I correctly provided Neil Armstrong along with the date of the Apollo 11 mission. Now, they're following up by asking about his first words upon stepping onto the moon.\n",
      "\n",
      "Hmm, I remember that Neil Armstrong said something memorable there. It's a classic quote everyone knows, but let me make sure I get it right. He did say something about a small step for man and a giant leap for mankind. The exact wording has always been interesting because people often misquote or misinterpret it.\n",
      "\n",
      "Wait, was it \"a man\" or \"man\"? I recall there's some confusion because of the way it was spoken. Armstrong actually said \"that's one small step for a man...\" but sometimes it's heard as \"for man.\" The \"a\" is hard to distinguish in the audio.\n",
      "\n",
      "The user might be looking not just for the quote itself, but maybe also why it's significant or any interesting facts about it. They could be a student working on a project, a trivia enthusiast, or someone recalling historic events. Understanding that context can help tailor the response appropriately.\n",
      "\n",
      "I should provide the exact words clearly and perhaps add a bit of explanation if needed, but since the query is straightforward, keeping it concise makes sense unless they ask for more details. Also, mentioning that his words were broadcast live adds to the historical significance.\n",
      "\n",
      "Let me double-check the date too—July 20, 1969—to ensure consistency with my previous response. It's good to have all the facts aligned so the user gets a cohesive and accurate answer each time.\n",
      "</think>\n",
      "\n",
      "Neil Armstrong's first words when he stepped onto the moon on July 20, 1969, were:\n",
      "\n",
      "**\"That's one small step for a man, one giant leap for mankind.\"**\n",
      "\n",
      "These iconic words marked the historic achievement of the Apollo 11 mission.\n"
     ]
    }
   ],
   "source": [
    "from langfuse.openai import OpenAI\n",
    "\n",
    "client = OpenAI(\n",
    "    base_url=\"https://ollama-dev.ceos.ufsc.br/v1\",\n",
    "    api_key=\"ollama\",\n",
    ")\n",
    "\n",
    "response = client.chat.completions.create(\n",
    "    model=\"deepseek-r1:32b-qwen-distill-q4_K_M\",\n",
    "    messages=[\n",
    "        {\"role\": \"system\", \"content\": \"You are a helpful assistant.\"},\n",
    "        {\"role\": \"user\", \"content\": \"Who was the first person to step on the moon?\"},\n",
    "        {\n",
    "            \"role\": \"assistant\",\n",
    "            \"content\": \"Neil Armstrong was the first person to step on the moon on July 20, 1969, during the Apollo 11 mission.\",\n",
    "        },\n",
    "        {\n",
    "            \"role\": \"user\",\n",
    "            \"content\": \"What were his first words when he stepped on the moon?\",\n",
    "        },\n",
    "    ],\n",
    ")\n",
    "print(response.choices[0].message.content)"
   ]
  },
  {
   "cell_type": "code",
   "execution_count": 39,
   "id": "90161255d5ea593a",
   "metadata": {
    "ExecuteTime": {
     "end_time": "2025-04-02T19:58:17.687064Z",
     "start_time": "2025-03-23T19:49:13.030168Z"
    }
   },
   "outputs": [
    {
     "data": {
      "text/plain": [
       "True"
      ]
     },
     "execution_count": 39,
     "metadata": {},
     "output_type": "execute_result"
    }
   ],
   "source": [
    "from langfuse.openai import openai\n",
    "\n",
    "openai.langfuse_auth_check()"
   ]
  }
 ],
 "metadata": {
  "kernelspec": {
   "display_name": "Python 3",
   "language": "python",
   "name": "python3"
  },
  "language_info": {
   "codemirror_mode": {
    "name": "ipython",
    "version": 2
   },
   "file_extension": ".py",
   "mimetype": "text/x-python",
   "name": "python",
   "nbconvert_exporter": "python",
   "pygments_lexer": "ipython2",
   "version": "2.7.6"
  }
 },
 "nbformat": 4,
 "nbformat_minor": 5
}
